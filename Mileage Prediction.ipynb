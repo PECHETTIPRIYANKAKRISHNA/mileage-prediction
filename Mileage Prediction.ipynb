{
 "cells": [
  {
   "cell_type": "code",
   "execution_count": 1,
   "id": "1682ba9a",
   "metadata": {},
   "outputs": [],
   "source": [
    "# step :01: import necessary libraries"
   ]
  },
  {
   "cell_type": "code",
   "execution_count": 2,
   "id": "825dc396",
   "metadata": {},
   "outputs": [],
   "source": [
    "import pandas as pd\n",
    "import numpy as np\n",
    "import seaborn as sns\n",
    "import matplotlib.pyplot as plt\n",
    "from scipy import stats\n",
    "import warnings\n",
    "warnings.filterwarnings(\"ignore\")"
   ]
  },
  {
   "cell_type": "code",
   "execution_count": 3,
   "id": "256a882f",
   "metadata": {},
   "outputs": [],
   "source": [
    "# step:02: import dataset"
   ]
  },
  {
   "cell_type": "code",
   "execution_count": 4,
   "id": "b3fdf745",
   "metadata": {
    "scrolled": true
   },
   "outputs": [
    {
     "data": {
      "text/html": [
       "<div>\n",
       "<style scoped>\n",
       "    .dataframe tbody tr th:only-of-type {\n",
       "        vertical-align: middle;\n",
       "    }\n",
       "\n",
       "    .dataframe tbody tr th {\n",
       "        vertical-align: top;\n",
       "    }\n",
       "\n",
       "    .dataframe thead th {\n",
       "        text-align: right;\n",
       "    }\n",
       "</style>\n",
       "<table border=\"1\" class=\"dataframe\">\n",
       "  <thead>\n",
       "    <tr style=\"text-align: right;\">\n",
       "      <th></th>\n",
       "      <th>HP</th>\n",
       "      <th>MPG</th>\n",
       "      <th>VOL</th>\n",
       "      <th>SP</th>\n",
       "      <th>WT</th>\n",
       "    </tr>\n",
       "  </thead>\n",
       "  <tbody>\n",
       "    <tr>\n",
       "      <th>0</th>\n",
       "      <td>49</td>\n",
       "      <td>53.700681</td>\n",
       "      <td>89</td>\n",
       "      <td>104.185353</td>\n",
       "      <td>28.762059</td>\n",
       "    </tr>\n",
       "    <tr>\n",
       "      <th>1</th>\n",
       "      <td>55</td>\n",
       "      <td>50.013401</td>\n",
       "      <td>92</td>\n",
       "      <td>105.461264</td>\n",
       "      <td>30.466833</td>\n",
       "    </tr>\n",
       "    <tr>\n",
       "      <th>2</th>\n",
       "      <td>55</td>\n",
       "      <td>50.013401</td>\n",
       "      <td>92</td>\n",
       "      <td>105.461264</td>\n",
       "      <td>30.193597</td>\n",
       "    </tr>\n",
       "    <tr>\n",
       "      <th>3</th>\n",
       "      <td>70</td>\n",
       "      <td>45.696322</td>\n",
       "      <td>92</td>\n",
       "      <td>113.461264</td>\n",
       "      <td>30.632114</td>\n",
       "    </tr>\n",
       "    <tr>\n",
       "      <th>4</th>\n",
       "      <td>53</td>\n",
       "      <td>50.504232</td>\n",
       "      <td>92</td>\n",
       "      <td>104.461264</td>\n",
       "      <td>29.889149</td>\n",
       "    </tr>\n",
       "    <tr>\n",
       "      <th>...</th>\n",
       "      <td>...</td>\n",
       "      <td>...</td>\n",
       "      <td>...</td>\n",
       "      <td>...</td>\n",
       "      <td>...</td>\n",
       "    </tr>\n",
       "    <tr>\n",
       "      <th>76</th>\n",
       "      <td>322</td>\n",
       "      <td>36.900000</td>\n",
       "      <td>50</td>\n",
       "      <td>169.598513</td>\n",
       "      <td>16.132947</td>\n",
       "    </tr>\n",
       "    <tr>\n",
       "      <th>77</th>\n",
       "      <td>238</td>\n",
       "      <td>19.197888</td>\n",
       "      <td>115</td>\n",
       "      <td>150.576579</td>\n",
       "      <td>37.923113</td>\n",
       "    </tr>\n",
       "    <tr>\n",
       "      <th>78</th>\n",
       "      <td>263</td>\n",
       "      <td>34.000000</td>\n",
       "      <td>50</td>\n",
       "      <td>151.598513</td>\n",
       "      <td>15.769625</td>\n",
       "    </tr>\n",
       "    <tr>\n",
       "      <th>79</th>\n",
       "      <td>295</td>\n",
       "      <td>19.833733</td>\n",
       "      <td>119</td>\n",
       "      <td>167.944460</td>\n",
       "      <td>39.423099</td>\n",
       "    </tr>\n",
       "    <tr>\n",
       "      <th>80</th>\n",
       "      <td>236</td>\n",
       "      <td>12.101263</td>\n",
       "      <td>107</td>\n",
       "      <td>139.840817</td>\n",
       "      <td>34.948615</td>\n",
       "    </tr>\n",
       "  </tbody>\n",
       "</table>\n",
       "<p>81 rows × 5 columns</p>\n",
       "</div>"
      ],
      "text/plain": [
       "     HP        MPG  VOL          SP         WT\n",
       "0    49  53.700681   89  104.185353  28.762059\n",
       "1    55  50.013401   92  105.461264  30.466833\n",
       "2    55  50.013401   92  105.461264  30.193597\n",
       "3    70  45.696322   92  113.461264  30.632114\n",
       "4    53  50.504232   92  104.461264  29.889149\n",
       "..  ...        ...  ...         ...        ...\n",
       "76  322  36.900000   50  169.598513  16.132947\n",
       "77  238  19.197888  115  150.576579  37.923113\n",
       "78  263  34.000000   50  151.598513  15.769625\n",
       "79  295  19.833733  119  167.944460  39.423099\n",
       "80  236  12.101263  107  139.840817  34.948615\n",
       "\n",
       "[81 rows x 5 columns]"
      ]
     },
     "execution_count": 4,
     "metadata": {},
     "output_type": "execute_result"
    }
   ],
   "source": [
    "cars_data=pd.read_csv(r\"C:\\Users\\PRIYANKA\\Data_Science_14_april_jhon\\data_Sets\\Cars.csv\")\n",
    "cars_data"
   ]
  },
  {
   "cell_type": "raw",
   "id": "0afdb9ef",
   "metadata": {},
   "source": [
    "Here we have Horse Power, Volume ,Speed of the car,Weight of the car and Mileage Per Gallon.Based on the input features Horse Power, Volume ,Speed of the car,Weight of the car  ....we need to predict the Mileage Per Gallon.\n",
    "\n",
    "Feature 01:\n",
    "So, If we are able to predict well based on MPG we can manufacture the car.Hence here the bussiness understanding is done.\n",
    "\n",
    "Feature 02:\n",
    "Data collection .So we collected the data.\n",
    "\n",
    "Feature 03:\n",
    "Data understanding.We know what exactly the column features are.Even in data understanding we perform all sorts of assumptions check.There are total 6 types of assumption checks for Linear Regression."
   ]
  },
  {
   "cell_type": "code",
   "execution_count": 5,
   "id": "04794e51",
   "metadata": {},
   "outputs": [],
   "source": [
    "# step:03: data understanding"
   ]
  },
  {
   "cell_type": "code",
   "execution_count": 6,
   "id": "6a9a4c30",
   "metadata": {},
   "outputs": [
    {
     "data": {
      "text/plain": [
       "(81, 5)"
      ]
     },
     "execution_count": 6,
     "metadata": {},
     "output_type": "execute_result"
    }
   ],
   "source": [
    "# 3.1 initial analysis\n",
    "\n",
    "cars_data.shape"
   ]
  },
  {
   "cell_type": "code",
   "execution_count": 7,
   "id": "1f6f9774",
   "metadata": {},
   "outputs": [
    {
     "data": {
      "text/plain": [
       "HP     0\n",
       "MPG    0\n",
       "VOL    0\n",
       "SP     0\n",
       "WT     0\n",
       "dtype: int64"
      ]
     },
     "execution_count": 7,
     "metadata": {},
     "output_type": "execute_result"
    }
   ],
   "source": [
    "cars_data.isna().sum()"
   ]
  },
  {
   "cell_type": "code",
   "execution_count": 8,
   "id": "eac484b4",
   "metadata": {},
   "outputs": [
    {
     "data": {
      "text/plain": [
       "HP       int64\n",
       "MPG    float64\n",
       "VOL      int64\n",
       "SP     float64\n",
       "WT     float64\n",
       "dtype: object"
      ]
     },
     "execution_count": 8,
     "metadata": {},
     "output_type": "execute_result"
    }
   ],
   "source": [
    "cars_data.dtypes"
   ]
  },
  {
   "cell_type": "code",
   "execution_count": 9,
   "id": "62f5739b",
   "metadata": {},
   "outputs": [],
   "source": [
    "# so till here the initial analysis is done as the data is in correct format.\n",
    "# Each data point is called as an observation"
   ]
  },
  {
   "cell_type": "code",
   "execution_count": 10,
   "id": "02d578a1",
   "metadata": {},
   "outputs": [],
   "source": [
    "# 3.2 ASSUMPTION CHECK"
   ]
  },
  {
   "cell_type": "code",
   "execution_count": 11,
   "id": "e7b906f1",
   "metadata": {},
   "outputs": [
    {
     "data": {
      "image/png": "[encoded data removed]",
      "text/plain": [
       "<Figure size 360x360 with 1 Axes>"
      ]
     },
     "metadata": {
      "needs_background": "light"
     },
     "output_type": "display_data"
    }
   ],
   "source": [
    "# ASSUMPTION 01: LINEARITY CHECK\n",
    "# Here we want to check wether HP is linearly related to MPG and VOL is linearly related to MPG  and SPEED OF THE CAR is linearly related to MPG and WEIGHT OF THE CAR is linearly related to MPG.\n",
    "# If all the features are linearly related we will get the best slope and intercept values in such a case the prediction also will be better.\n",
    "sns.lmplot(x='HP',y='MPG',data=cars_data)\n",
    "plt.title(\"HP VS MPG\")\n",
    "plt.show()\n",
    "\n",
    "\n",
    "# By picking up two feature we try to check the linear relationship between them.Here As HP increases the MPG decreases.hence it is negatively corelated.\n",
    "# To check Linearity both the feature should be continuous in nature.\n",
    "# Here we except exact linearity,all the points should fall on the linear line or near by the linear line.\n",
    "# Here HP w.r.t MPG ,is not follwing Linearity test."
   ]
  },
  {
   "cell_type": "code",
   "execution_count": 12,
   "id": "52d9bd6f",
   "metadata": {},
   "outputs": [
    {
     "data": {
      "image/png": "[encoded data removed]",
      "text/plain": [
       "<Figure size 360x360 with 1 Axes>"
      ]
     },
     "metadata": {
      "needs_background": "light"
     },
     "output_type": "display_data"
    }
   ],
   "source": [
    "sns.lmplot(x='VOL',y='MPG',data=cars_data)\n",
    "plt.title(\"VOL VS MPG\")\n",
    "plt.show()"
   ]
  },
  {
   "cell_type": "code",
   "execution_count": 13,
   "id": "196ccdb8",
   "metadata": {},
   "outputs": [
    {
     "data": {
      "image/png": "[encoded data removed]",
      "text/plain": [
       "<Figure size 360x360 with 1 Axes>"
      ]
     },
     "metadata": {
      "needs_background": "light"
     },
     "output_type": "display_data"
    }
   ],
   "source": [
    "sns.lmplot(x='SP',y='MPG',data=cars_data)\n",
    "plt.title(\"SP VS MPG\")\n",
    "plt.show()"
   ]
  },
  {
   "cell_type": "code",
   "execution_count": 14,
   "id": "bc806530",
   "metadata": {},
   "outputs": [
    {
     "data": {
      "image/png": "[encoded data removed]",
      "text/plain": [
       "<Figure size 360x360 with 1 Axes>"
      ]
     },
     "metadata": {
      "needs_background": "light"
     },
     "output_type": "display_data"
    }
   ],
   "source": [
    "sns.lmplot(x='WT',y='MPG',data=cars_data)\n",
    "plt.title(\"WT VS MPG\")\n",
    "plt.show()"
   ]
  },
  {
   "cell_type": "code",
   "execution_count": 15,
   "id": "a22b703e",
   "metadata": {},
   "outputs": [],
   "source": [
    "# By visualizing the 4 graphs ,as the data points are scattered i.e, the points are not near to the line.\n",
    "# Hence , The linearity test is failed"
   ]
  },
  {
   "cell_type": "code",
   "execution_count": 16,
   "id": "f5b36b39",
   "metadata": {},
   "outputs": [
    {
     "data": {
      "image/png": "[encoded data removed]",
      "text/plain": [
       "<Figure size 900x900 with 30 Axes>"
      ]
     },
     "metadata": {
      "needs_background": "light"
     },
     "output_type": "display_data"
    }
   ],
   "source": [
    "# The other way to check the linearity is by using pair plot.Instead of 4 plots we can quickly check the relation between 2 features in single plot\n",
    "#Here, In this pair plot we are concerned of the \"Y\" out put feature w.r.t input features.\n",
    "\n",
    "\n",
    "sns.pairplot(data=cars_data)\n",
    "plt.show()"
   ]
  },
  {
   "cell_type": "code",
   "execution_count": 17,
   "id": "3b3aa9c8",
   "metadata": {},
   "outputs": [],
   "source": [
    "# So, our final observation is ,Linearity check is failed"
   ]
  },
  {
   "cell_type": "code",
   "execution_count": 18,
   "id": "e92a7f87",
   "metadata": {},
   "outputs": [],
   "source": [
    "# ASSUMPTION 02: TEST OF NORMALITY\n",
    "\n",
    "#To check whether the data is normally distributed.\n",
    "#By using 2 to 3 techniques we can check whether the data is following Normal distribution or not.\n",
    "# 1. By using DISTPLOT\n",
    "# 2. By using PROBPLOT\n",
    "# 3. By using QQPLOT"
   ]
  },
  {
   "cell_type": "code",
   "execution_count": 19,
   "id": "8c3ceef0",
   "metadata": {},
   "outputs": [
    {
     "data": {
      "image/png": "[encoded data removed]",
      "text/plain": [
       "<Figure size 432x288 with 1 Axes>"
      ]
     },
     "metadata": {
      "needs_background": "light"
     },
     "output_type": "display_data"
    }
   ],
   "source": [
    "# 2.1 Dist plot\n",
    "\n",
    "sns.distplot(a=cars_data['HP'],hist=False)\n",
    "plt.show()\n",
    "\n",
    "# Here the HP is not following  normally distribution"
   ]
  },
  {
   "cell_type": "code",
   "execution_count": 20,
   "id": "9489fc1f",
   "metadata": {},
   "outputs": [
    {
     "data": {
      "image/png": "[encoded data removed]",
      "text/plain": [
       "<Figure size 432x288 with 1 Axes>"
      ]
     },
     "metadata": {
      "needs_background": "light"
     },
     "output_type": "display_data"
    }
   ],
   "source": [
    "sns.distplot(a=cars_data['VOL'],hist=False)\n",
    "plt.show()\n",
    "\n",
    "# Here the VOL is not following  normally distribution"
   ]
  },
  {
   "cell_type": "code",
   "execution_count": 21,
   "id": "2786d849",
   "metadata": {},
   "outputs": [
    {
     "data": {
      "image/png": "[encoded data removed]",
      "text/plain": [
       "<Figure size 432x288 with 1 Axes>"
      ]
     },
     "metadata": {
      "needs_background": "light"
     },
     "output_type": "display_data"
    }
   ],
   "source": [
    "sns.distplot(a=cars_data['SP'],hist=False)\n",
    "plt.show()\n",
    "\n",
    "# Here the SP is not following  normally distribution"
   ]
  },
  {
   "cell_type": "code",
   "execution_count": 22,
   "id": "9704e247",
   "metadata": {},
   "outputs": [
    {
     "data": {
      "image/png": "[encoded data removed]",
      "text/plain": [
       "<Figure size 432x288 with 1 Axes>"
      ]
     },
     "metadata": {
      "needs_background": "light"
     },
     "output_type": "display_data"
    }
   ],
   "source": [
    "sns.distplot(a=cars_data['WT'],hist=False)\n",
    "plt.show()\n",
    "\n",
    "# Here the WT is not following  normally distribution"
   ]
  },
  {
   "cell_type": "code",
   "execution_count": 23,
   "id": "6f8eae0d",
   "metadata": {},
   "outputs": [],
   "source": [
    "# So, our final observation is ,normality check is failed"
   ]
  },
  {
   "cell_type": "code",
   "execution_count": 24,
   "id": "3edba04e",
   "metadata": {},
   "outputs": [
    {
     "data": {
      "image/png": "[encoded data removed]",
      "text/plain": [
       "<Figure size 432x288 with 1 Axes>"
      ]
     },
     "metadata": {
      "needs_background": "light"
     },
     "output_type": "display_data"
    }
   ],
   "source": [
    "# 2.2 PROB PLOT\n",
    "\n",
    "stats.probplot(x=cars_data['HP'],dist='norm',plot=plt)\n",
    "plt.show()\n",
    "\n",
    "#Here, HP is not following normality"
   ]
  },
  {
   "cell_type": "code",
   "execution_count": 25,
   "id": "520eeb6c",
   "metadata": {},
   "outputs": [
    {
     "data": {
      "image/png": "[encoded data removed]",
      "text/plain": [
       "<Figure size 432x288 with 1 Axes>"
      ]
     },
     "metadata": {
      "needs_background": "light"
     },
     "output_type": "display_data"
    }
   ],
   "source": [
    "stats.probplot(x=cars_data['VOL'],dist='norm',plot=plt)\n",
    "plt.show()\n",
    "\n",
    "#Here, VOL is not following normality"
   ]
  },
  {
   "cell_type": "code",
   "execution_count": 26,
   "id": "c9fc5aec",
   "metadata": {},
   "outputs": [
    {
     "data": {
      "image/png": "[encoded data removed]",
      "text/plain": [
       "<Figure size 432x288 with 1 Axes>"
      ]
     },
     "metadata": {
      "needs_background": "light"
     },
     "output_type": "display_data"
    }
   ],
   "source": [
    "stats.probplot(x=cars_data['SP'],dist='norm',plot=plt)\n",
    "plt.show()\n",
    "\n",
    "#Here, SP is not following normality"
   ]
  },
  {
   "cell_type": "code",
   "execution_count": 27,
   "id": "18bc4849",
   "metadata": {},
   "outputs": [
    {
     "data": {
      "image/png": "[encoded data removed]",
      "text/plain": [
       "<Figure size 432x288 with 1 Axes>"
      ]
     },
     "metadata": {
      "needs_background": "light"
     },
     "output_type": "display_data"
    }
   ],
   "source": [
    "stats.probplot(x=cars_data['WT'],dist='norm',plot=plt)\n",
    "plt.show()\n",
    "\n",
    "#Here, WT is not following normality"
   ]
  },
  {
   "cell_type": "code",
   "execution_count": 28,
   "id": "c568de17",
   "metadata": {},
   "outputs": [],
   "source": [
    "# So final observation is using prob plot normality test is failed"
   ]
  },
  {
   "cell_type": "code",
   "execution_count": 29,
   "id": "50ab85ea",
   "metadata": {},
   "outputs": [],
   "source": [
    "# ASSUMPTION 03 : MULTICOLLINEARITY TEST\n",
    "\n",
    "# There should not be any relationship/dependency between the input variables\n",
    "\n",
    "# By using 2 techniques,\n",
    "\n",
    "# 1. Correlation Matrix\n",
    "# 2. Variance Inflation Factor(VIF)"
   ]
  },
  {
   "cell_type": "code",
   "execution_count": 30,
   "id": "c1fecd34",
   "metadata": {},
   "outputs": [
    {
     "data": {
      "text/html": [
       "<div>\n",
       "<style scoped>\n",
       "    .dataframe tbody tr th:only-of-type {\n",
       "        vertical-align: middle;\n",
       "    }\n",
       "\n",
       "    .dataframe tbody tr th {\n",
       "        vertical-align: top;\n",
       "    }\n",
       "\n",
       "    .dataframe thead th {\n",
       "        text-align: right;\n",
       "    }\n",
       "</style>\n",
       "<table border=\"1\" class=\"dataframe\">\n",
       "  <thead>\n",
       "    <tr style=\"text-align: right;\">\n",
       "      <th></th>\n",
       "      <th>HP</th>\n",
       "      <th>MPG</th>\n",
       "      <th>VOL</th>\n",
       "      <th>SP</th>\n",
       "      <th>WT</th>\n",
       "    </tr>\n",
       "  </thead>\n",
       "  <tbody>\n",
       "    <tr>\n",
       "      <th>HP</th>\n",
       "      <td>1.00</td>\n",
       "      <td>-0.73</td>\n",
       "      <td>0.08</td>\n",
       "      <td>0.97</td>\n",
       "      <td>0.08</td>\n",
       "    </tr>\n",
       "    <tr>\n",
       "      <th>MPG</th>\n",
       "      <td>-0.73</td>\n",
       "      <td>1.00</td>\n",
       "      <td>-0.53</td>\n",
       "      <td>-0.69</td>\n",
       "      <td>-0.53</td>\n",
       "    </tr>\n",
       "    <tr>\n",
       "      <th>VOL</th>\n",
       "      <td>0.08</td>\n",
       "      <td>-0.53</td>\n",
       "      <td>1.00</td>\n",
       "      <td>0.10</td>\n",
       "      <td>1.00</td>\n",
       "    </tr>\n",
       "    <tr>\n",
       "      <th>SP</th>\n",
       "      <td>0.97</td>\n",
       "      <td>-0.69</td>\n",
       "      <td>0.10</td>\n",
       "      <td>1.00</td>\n",
       "      <td>0.10</td>\n",
       "    </tr>\n",
       "    <tr>\n",
       "      <th>WT</th>\n",
       "      <td>0.08</td>\n",
       "      <td>-0.53</td>\n",
       "      <td>1.00</td>\n",
       "      <td>0.10</td>\n",
       "      <td>1.00</td>\n",
       "    </tr>\n",
       "  </tbody>\n",
       "</table>\n",
       "</div>"
      ],
      "text/plain": [
       "       HP   MPG   VOL    SP    WT\n",
       "HP   1.00 -0.73  0.08  0.97  0.08\n",
       "MPG -0.73  1.00 -0.53 -0.69 -0.53\n",
       "VOL  0.08 -0.53  1.00  0.10  1.00\n",
       "SP   0.97 -0.69  0.10  1.00  0.10\n",
       "WT   0.08 -0.53  1.00  0.10  1.00"
      ]
     },
     "execution_count": 30,
     "metadata": {},
     "output_type": "execute_result"
    }
   ],
   "source": [
    "# 3.1 CORRELATION MATRIX\n",
    "\n",
    "corr_matrix = cars_data.corr().round(2)\n",
    "corr_matrix\n",
    "\n",
    "# As is not appealing. We use heatmap to plot the correlation."
   ]
  },
  {
   "cell_type": "code",
   "execution_count": 31,
   "id": "47608583",
   "metadata": {},
   "outputs": [
    {
     "data": {
      "image/png": "[encoded data removed]",
      "text/plain": [
       "<Figure size 432x288 with 2 Axes>"
      ]
     },
     "metadata": {
      "needs_background": "light"
     },
     "output_type": "display_data"
    }
   ],
   "source": [
    "sns.heatmap(data=corr_matrix,annot=True)\n",
    "plt.show()\n",
    "\n",
    "#Again,here we are concerned about output i.e, MPG.Here we check wether there is any highest correlation between two features.\n",
    "# Now, Here we check the relation between input feature vs input feature.\n",
    "# HP vs VOL no collinearity\n",
    "# HP vs SP 97% collinearity.So it tells us what ever information HP is trying to convey the same info is conveyed by the SP.So this a problem.\n",
    "# HP vs WT  no collinearity\n",
    "# VOL vs WT 100 % collinearity\n",
    "\n",
    "# So finally what we understood from this is that \"HP vs SP\" and \"VOL vs WT\" are highly corelated to each other.So we need to go ahead and drop any one of the features.\n",
    "# But we are not droping any features as of now,We are using these and going to perform analysis. "
   ]
  },
  {
   "cell_type": "code",
   "execution_count": 32,
   "id": "c96f067a",
   "metadata": {},
   "outputs": [],
   "source": [
    "# So final observation is using multicollinearity test is failed."
   ]
  },
  {
   "cell_type": "code",
   "execution_count": 33,
   "id": "f0cce39b",
   "metadata": {},
   "outputs": [],
   "source": [
    "# ASSUMPTION 04: AUTO REGRESSION\n",
    "\n",
    "#As there is no time related inputs .Auto regression test is passed."
   ]
  },
  {
   "cell_type": "markdown",
   "id": "78f9abe3",
   "metadata": {},
   "source": [
    "##### NOTE: Here if any one assumption of Linearity Regression is failed all the other assumptions will also fail simultaneously."
   ]
  },
  {
   "cell_type": "code",
   "execution_count": 34,
   "id": "672d1bb8",
   "metadata": {},
   "outputs": [],
   "source": [
    "# STEP 04: MODEL BUILDING\n",
    "# here both the input and output should be in data frame format\n",
    "\n",
    "X=cars_data.drop(labels=['MPG'],axis=1)# Here for X all the input features are considered\n",
    "y=cars_data[['MPG']]# Here for y only the output feature will be considered"
   ]
  },
  {
   "cell_type": "code",
   "execution_count": 35,
   "id": "455256e2",
   "metadata": {},
   "outputs": [
    {
     "data": {
      "text/html": [
       "<div>\n",
       "<style scoped>\n",
       "    .dataframe tbody tr th:only-of-type {\n",
       "        vertical-align: middle;\n",
       "    }\n",
       "\n",
       "    .dataframe tbody tr th {\n",
       "        vertical-align: top;\n",
       "    }\n",
       "\n",
       "    .dataframe thead th {\n",
       "        text-align: right;\n",
       "    }\n",
       "</style>\n",
       "<table border=\"1\" class=\"dataframe\">\n",
       "  <thead>\n",
       "    <tr style=\"text-align: right;\">\n",
       "      <th></th>\n",
       "      <th>HP</th>\n",
       "      <th>VOL</th>\n",
       "      <th>SP</th>\n",
       "      <th>WT</th>\n",
       "    </tr>\n",
       "  </thead>\n",
       "  <tbody>\n",
       "    <tr>\n",
       "      <th>0</th>\n",
       "      <td>49</td>\n",
       "      <td>89</td>\n",
       "      <td>104.185353</td>\n",
       "      <td>28.762059</td>\n",
       "    </tr>\n",
       "    <tr>\n",
       "      <th>1</th>\n",
       "      <td>55</td>\n",
       "      <td>92</td>\n",
       "      <td>105.461264</td>\n",
       "      <td>30.466833</td>\n",
       "    </tr>\n",
       "    <tr>\n",
       "      <th>2</th>\n",
       "      <td>55</td>\n",
       "      <td>92</td>\n",
       "      <td>105.461264</td>\n",
       "      <td>30.193597</td>\n",
       "    </tr>\n",
       "    <tr>\n",
       "      <th>3</th>\n",
       "      <td>70</td>\n",
       "      <td>92</td>\n",
       "      <td>113.461264</td>\n",
       "      <td>30.632114</td>\n",
       "    </tr>\n",
       "    <tr>\n",
       "      <th>4</th>\n",
       "      <td>53</td>\n",
       "      <td>92</td>\n",
       "      <td>104.461264</td>\n",
       "      <td>29.889149</td>\n",
       "    </tr>\n",
       "    <tr>\n",
       "      <th>...</th>\n",
       "      <td>...</td>\n",
       "      <td>...</td>\n",
       "      <td>...</td>\n",
       "      <td>...</td>\n",
       "    </tr>\n",
       "    <tr>\n",
       "      <th>76</th>\n",
       "      <td>322</td>\n",
       "      <td>50</td>\n",
       "      <td>169.598513</td>\n",
       "      <td>16.132947</td>\n",
       "    </tr>\n",
       "    <tr>\n",
       "      <th>77</th>\n",
       "      <td>238</td>\n",
       "      <td>115</td>\n",
       "      <td>150.576579</td>\n",
       "      <td>37.923113</td>\n",
       "    </tr>\n",
       "    <tr>\n",
       "      <th>78</th>\n",
       "      <td>263</td>\n",
       "      <td>50</td>\n",
       "      <td>151.598513</td>\n",
       "      <td>15.769625</td>\n",
       "    </tr>\n",
       "    <tr>\n",
       "      <th>79</th>\n",
       "      <td>295</td>\n",
       "      <td>119</td>\n",
       "      <td>167.944460</td>\n",
       "      <td>39.423099</td>\n",
       "    </tr>\n",
       "    <tr>\n",
       "      <th>80</th>\n",
       "      <td>236</td>\n",
       "      <td>107</td>\n",
       "      <td>139.840817</td>\n",
       "      <td>34.948615</td>\n",
       "    </tr>\n",
       "  </tbody>\n",
       "</table>\n",
       "<p>81 rows × 4 columns</p>\n",
       "</div>"
      ],
      "text/plain": [
       "     HP  VOL          SP         WT\n",
       "0    49   89  104.185353  28.762059\n",
       "1    55   92  105.461264  30.466833\n",
       "2    55   92  105.461264  30.193597\n",
       "3    70   92  113.461264  30.632114\n",
       "4    53   92  104.461264  29.889149\n",
       "..  ...  ...         ...        ...\n",
       "76  322   50  169.598513  16.132947\n",
       "77  238  115  150.576579  37.923113\n",
       "78  263   50  151.598513  15.769625\n",
       "79  295  119  167.944460  39.423099\n",
       "80  236  107  139.840817  34.948615\n",
       "\n",
       "[81 rows x 4 columns]"
      ]
     },
     "execution_count": 35,
     "metadata": {},
     "output_type": "execute_result"
    }
   ],
   "source": [
    "X"
   ]
  },
  {
   "cell_type": "code",
   "execution_count": 36,
   "id": "409601ce",
   "metadata": {},
   "outputs": [
    {
     "data": {
      "text/html": [
       "<div>\n",
       "<style scoped>\n",
       "    .dataframe tbody tr th:only-of-type {\n",
       "        vertical-align: middle;\n",
       "    }\n",
       "\n",
       "    .dataframe tbody tr th {\n",
       "        vertical-align: top;\n",
       "    }\n",
       "\n",
       "    .dataframe thead th {\n",
       "        text-align: right;\n",
       "    }\n",
       "</style>\n",
       "<table border=\"1\" class=\"dataframe\">\n",
       "  <thead>\n",
       "    <tr style=\"text-align: right;\">\n",
       "      <th></th>\n",
       "      <th>MPG</th>\n",
       "    </tr>\n",
       "  </thead>\n",
       "  <tbody>\n",
       "    <tr>\n",
       "      <th>0</th>\n",
       "      <td>53.700681</td>\n",
       "    </tr>\n",
       "    <tr>\n",
       "      <th>1</th>\n",
       "      <td>50.013401</td>\n",
       "    </tr>\n",
       "    <tr>\n",
       "      <th>2</th>\n",
       "      <td>50.013401</td>\n",
       "    </tr>\n",
       "    <tr>\n",
       "      <th>3</th>\n",
       "      <td>45.696322</td>\n",
       "    </tr>\n",
       "    <tr>\n",
       "      <th>4</th>\n",
       "      <td>50.504232</td>\n",
       "    </tr>\n",
       "    <tr>\n",
       "      <th>...</th>\n",
       "      <td>...</td>\n",
       "    </tr>\n",
       "    <tr>\n",
       "      <th>76</th>\n",
       "      <td>36.900000</td>\n",
       "    </tr>\n",
       "    <tr>\n",
       "      <th>77</th>\n",
       "      <td>19.197888</td>\n",
       "    </tr>\n",
       "    <tr>\n",
       "      <th>78</th>\n",
       "      <td>34.000000</td>\n",
       "    </tr>\n",
       "    <tr>\n",
       "      <th>79</th>\n",
       "      <td>19.833733</td>\n",
       "    </tr>\n",
       "    <tr>\n",
       "      <th>80</th>\n",
       "      <td>12.101263</td>\n",
       "    </tr>\n",
       "  </tbody>\n",
       "</table>\n",
       "<p>81 rows × 1 columns</p>\n",
       "</div>"
      ],
      "text/plain": [
       "          MPG\n",
       "0   53.700681\n",
       "1   50.013401\n",
       "2   50.013401\n",
       "3   45.696322\n",
       "4   50.504232\n",
       "..        ...\n",
       "76  36.900000\n",
       "77  19.197888\n",
       "78  34.000000\n",
       "79  19.833733\n",
       "80  12.101263\n",
       "\n",
       "[81 rows x 1 columns]"
      ]
     },
     "execution_count": 36,
     "metadata": {},
     "output_type": "execute_result"
    }
   ],
   "source": [
    "y"
   ]
  },
  {
   "cell_type": "code",
   "execution_count": 37,
   "id": "545c6500",
   "metadata": {},
   "outputs": [
    {
     "data": {
      "text/plain": [
       "LinearRegression()"
      ]
     },
     "execution_count": 37,
     "metadata": {},
     "output_type": "execute_result"
    }
   ],
   "source": [
    "# STEP 05: MODEL TRAINING\n",
    "# Here when we give the same inputs\n",
    "\n",
    "from sklearn.linear_model import LinearRegression\n",
    "linear_model=LinearRegression()\n",
    "linear_model.fit(X,y)"
   ]
  },
  {
   "cell_type": "code",
   "execution_count": 38,
   "id": "5112d3af",
   "metadata": {},
   "outputs": [],
   "source": [
    "# STEP 06 : MODEL TESTING\n",
    "y_pred = linear_model.predict(X)"
   ]
  },
  {
   "cell_type": "code",
   "execution_count": 39,
   "id": "b6cdd1dc",
   "metadata": {},
   "outputs": [
    {
     "data": {
      "text/html": [
       "<div>\n",
       "<style scoped>\n",
       "    .dataframe tbody tr th:only-of-type {\n",
       "        vertical-align: middle;\n",
       "    }\n",
       "\n",
       "    .dataframe tbody tr th {\n",
       "        vertical-align: top;\n",
       "    }\n",
       "\n",
       "    .dataframe thead th {\n",
       "        text-align: right;\n",
       "    }\n",
       "</style>\n",
       "<table border=\"1\" class=\"dataframe\">\n",
       "  <thead>\n",
       "    <tr style=\"text-align: right;\">\n",
       "      <th></th>\n",
       "      <th>MPG</th>\n",
       "    </tr>\n",
       "  </thead>\n",
       "  <tbody>\n",
       "    <tr>\n",
       "      <th>0</th>\n",
       "      <td>10.258747</td>\n",
       "    </tr>\n",
       "    <tr>\n",
       "      <th>1</th>\n",
       "      <td>7.624608</td>\n",
       "    </tr>\n",
       "    <tr>\n",
       "      <th>2</th>\n",
       "      <td>7.734060</td>\n",
       "    </tr>\n",
       "    <tr>\n",
       "      <th>3</th>\n",
       "      <td>3.157963</td>\n",
       "    </tr>\n",
       "    <tr>\n",
       "      <th>4</th>\n",
       "      <td>8.331584</td>\n",
       "    </tr>\n",
       "    <tr>\n",
       "      <th>...</th>\n",
       "      <td>...</td>\n",
       "    </tr>\n",
       "    <tr>\n",
       "      <th>76</th>\n",
       "      <td>15.617904</td>\n",
       "    </tr>\n",
       "    <tr>\n",
       "      <th>77</th>\n",
       "      <td>1.298838</td>\n",
       "    </tr>\n",
       "    <tr>\n",
       "      <th>78</th>\n",
       "      <td>7.863547</td>\n",
       "    </tr>\n",
       "    <tr>\n",
       "      <th>79</th>\n",
       "      <td>7.517122</td>\n",
       "    </tr>\n",
       "    <tr>\n",
       "      <th>80</th>\n",
       "      <td>-3.458218</td>\n",
       "    </tr>\n",
       "  </tbody>\n",
       "</table>\n",
       "<p>81 rows × 1 columns</p>\n",
       "</div>"
      ],
      "text/plain": [
       "          MPG\n",
       "0   10.258747\n",
       "1    7.624608\n",
       "2    7.734060\n",
       "3    3.157963\n",
       "4    8.331584\n",
       "..        ...\n",
       "76  15.617904\n",
       "77   1.298838\n",
       "78   7.863547\n",
       "79   7.517122\n",
       "80  -3.458218\n",
       "\n",
       "[81 rows x 1 columns]"
      ]
     },
     "execution_count": 39,
     "metadata": {},
     "output_type": "execute_result"
    }
   ],
   "source": [
    "# STEP 07: MODEL EVALUATION\n",
    "\n",
    "error = y - y_pred\n",
    "error"
   ]
  },
  {
   "cell_type": "markdown",
   "id": "c35a313e",
   "metadata": {},
   "source": [
    "##### NOTE: Here , there is one point to be noted i.e, to perform our next aussumption check i.e,. homoscadasticity all the input fetaures should be in a similar scale. \n",
    "\n",
    "##### Because we are taking HP vs error , VOL vs error , SP vs error, WT vs error if all the 4 features are of different scale output y will also get impacted.So we need to make sure that all the input features are of similar scale.\n",
    "\n",
    "##### The one process we have learnt in statistics  is, if we are able to standardize the input Features mean will be equal to zero and standard deviation is equal to one. i.e., one standard deviation is equal to 1 for all the input features.\n",
    "\n",
    "\n",
    "##### So we standardize all the input features just to check the Homoscadasticity and how it will work here."
   ]
  },
  {
   "cell_type": "code",
   "execution_count": 40,
   "id": "25465ced",
   "metadata": {},
   "outputs": [
    {
     "data": {
      "text/plain": [
       "array([[-1.20629511, -0.44061061, -1.23140253, -0.49023816],\n",
       "       [-1.1005866 , -0.30525236, -1.14087145, -0.26129934],\n",
       "       [-1.1005866 , -0.30525236, -1.14087145, -0.29799301],\n",
       "       [-0.83631531, -0.30525236, -0.57323872, -0.2391033 ],\n",
       "       [-1.13582277, -0.30525236, -1.21182554, -0.33887816],\n",
       "       [-0.83631531, -0.44061061, -0.59281571, -0.37881419],\n",
       "       [-1.1005866 , -0.30525236, -1.14087145, -0.28256505],\n",
       "       [-0.97726   , -2.20026792, -1.34399532, -2.22453536],\n",
       "       [-0.97726   , -2.20026792, -1.34399532, -2.15581433],\n",
       "       [-0.66013445, -0.21501352, -0.4182792 , -0.20042158],\n",
       "       [-0.78346105, -0.44061061, -0.73472389, -0.40949027],\n",
       "       [-0.44871742, -2.20026792, -0.27968395, -2.23718888],\n",
       "       [-0.44871742,  0.01058357,  0.04007367,  0.05385348],\n",
       "       [-0.78346105, -0.44061061, -0.73472389, -0.40746314],\n",
       "       [-0.90678765, -0.44061061, -0.94758617, -0.41164734],\n",
       "       [-0.78346105, -0.44061061, -0.73472389, -0.37710085],\n",
       "       [-0.69537062, -0.35037178, -0.50881029, -0.38633253],\n",
       "       [-0.44871742, -2.20026792, -0.27968395, -2.17802125],\n",
       "       [-0.69537062, -0.35037178, -0.50881029, -0.33347355],\n",
       "       [-0.48395359,  0.19106124, -0.21764002,  0.14831256],\n",
       "       [-0.44871742,  0.01058357, -0.1727886 , -0.01180799],\n",
       "       [-0.76584297,  0.37153891, -0.75917009,  0.33514564],\n",
       "       [-0.39586316,  0.1008224 , -0.08878318,  0.03535268],\n",
       "       [-0.64251637, -0.12477469, -0.54713605, -0.07727938],\n",
       "       [-0.39586316, -0.44061061, -0.16709116, -0.48759676],\n",
       "       [-0.44871742, -2.20026792, -0.49254623, -2.19829229],\n",
       "       [-0.44871742,  0.82273309, -0.05532661,  0.75878723],\n",
       "       [-0.44871742,  0.01058357, -0.1727886 ,  0.05673768],\n",
       "       [-1.15344086,  0.23618066, -1.55924209,  0.27807071],\n",
       "       [-0.25491848,  0.37153891,  0.02132491,  0.42124726],\n",
       "       [-0.58966211,  0.68737484, -0.57158225,  0.62174504],\n",
       "       [-0.58966211,  0.1008224 , -0.65641591,  0.11035971],\n",
       "       [-0.27253656, -0.07965527, -0.11488584, -0.13866213],\n",
       "       [-0.27253656,  0.64225542, -0.01047519,  0.69304639],\n",
       "       [-0.64251637,  0.1008224 , -0.72737   ,  0.03881962],\n",
       "       [-0.48395359, -0.03453585, -0.46313063, -0.06732815],\n",
       "       [-0.48395359, -0.48573003, -0.52838729, -0.49132041],\n",
       "       [-0.27253656, -0.57596887, -0.32857635, -0.60870364],\n",
       "       [-0.27253656, -0.57596887, -0.32857635, -0.50790524],\n",
       "       [ 0.22076984, -0.30525236,  0.49107265, -0.30848967],\n",
       "       [-0.39586316,  0.64225542, -0.36524564,  0.66877093],\n",
       "       [-0.39586316,  0.32641949, -0.4109253 ,  0.35112169],\n",
       "       [-0.27253656, -0.30525236, -0.28942235, -0.253162  ],\n",
       "       [-0.39586316, -0.48573003, -0.52838729, -0.54638368],\n",
       "       [-0.43109934,  0.14594182, -0.50798206,  0.08944633],\n",
       "       [-0.30777273,  0.01058357, -0.31469678,  0.02811271],\n",
       "       [-0.30777273,  0.55201658, -0.23638879,  0.54872568],\n",
       "       [-0.34300891,  0.19106124, -0.35954821,  0.20110061],\n",
       "       [ 0.22076984, -0.57596887,  0.45191866, -0.58309656],\n",
       "       [-0.04350145,  0.1008224 , -0.23069136,  0.14045608],\n",
       "       [-0.04350145,  0.1008224 , -0.23069136,  0.10761914],\n",
       "       [-0.04350145,  0.1008224 , -0.23069136,  0.13753382],\n",
       "       [-0.04350145,  1.13856902, -0.08060104,  1.07240653],\n",
       "       [ 1.10167413,  0.64225542,  1.55051482,  0.69941256],\n",
       "       [ 0.74931242,  0.64225542,  0.98288209,  0.65022074],\n",
       "       [ 0.22076984,  1.13856902,  0.3451235 ,  1.09804367],\n",
       "       [-0.37824508, -0.30525236, -0.78610099, -0.30417763],\n",
       "       [-0.04350145,  0.1008224 , -0.23069136,  0.04323438],\n",
       "       [-0.30777273, -0.21501352, -0.63114147, -0.24136353],\n",
       "       [-0.30777273,  0.73249426, -0.4231484 ,  0.70507688],\n",
       "       [ 0.48504113,  0.55201658,  0.6150603 ,  0.60103751],\n",
       "       [ 0.04458898,  0.77761368, -0.27471455,  0.73160477],\n",
       "       [ 0.3969507 ,  1.45440495,  0.31984907,  1.47432127],\n",
       "       [ 0.3969507 ,  1.0934496 ,  0.26764375,  1.11600704],\n",
       "       [ 0.57313156,  1.00321077,  0.46745469,  1.0403533 ],\n",
       "       [ 0.83740285, -2.20026792,  0.35890287, -2.24265139],\n",
       "       [ 0.83740285,  0.68737484,  0.77654549,  0.74765875],\n",
       "       [ 0.83740285,  1.27392727,  0.86137914,  1.23030947],\n",
       "       [ 0.83740285,  1.0934496 ,  0.83527648,  1.08232792],\n",
       "       [ 2.24684972,  0.597136  ,  2.60830053,  0.63509149],\n",
       "       [ 2.86348272, -2.20026792,  3.05515833, -2.22785207],\n",
       "       [ 0.78454859,  1.63488262,  0.84263038,  1.55787152],\n",
       "       [ 0.78454859,  1.49952437,  0.82305338,  1.4692362 ],\n",
       "       [ 0.3969507 ,  2.76286807,  0.22527702,  2.76444017],\n",
       "       [ 0.3969507 ,  1.36416611,  0.02298138,  1.3706083 ],\n",
       "       [ 1.01358371,  1.36416611,  0.80347638,  1.39203071],\n",
       "       [ 3.60344233, -2.20026792,  3.40992879, -2.18623649],\n",
       "       [ 2.12352311,  0.73249426,  2.06024479,  0.74002517],\n",
       "       [ 2.56397526, -2.20026792,  2.13275515, -2.23502801],\n",
       "       [ 3.12775401,  0.91297193,  3.292567  ,  0.94146241],\n",
       "       [ 2.08828694,  0.37153891,  1.29849856,  0.34057153]])"
      ]
     },
     "execution_count": 40,
     "metadata": {},
     "output_type": "execute_result"
    }
   ],
   "source": [
    "# STEP 08 : STANDARDIZATION\n",
    "# standardization can be performed using sklearn.preprocessing package and from that we pick Standardscaler.\n",
    "# Equation of standard scaler (x-mu)/sigma\n",
    "# Here when we use fit and pass the input X the output will be StandardScaler().But when we use fit_transform it fits the values and also transforms them. \n",
    "\n",
    "\n",
    "from sklearn.preprocessing import StandardScaler\n",
    "std_scaler = StandardScaler()\n",
    "scaled_X=std_scaler.fit_transform(X)\n",
    "scaled_X"
   ]
  },
  {
   "cell_type": "code",
   "execution_count": 41,
   "id": "d46f6829",
   "metadata": {},
   "outputs": [
    {
     "data": {
      "text/html": [
       "<div>\n",
       "<style scoped>\n",
       "    .dataframe tbody tr th:only-of-type {\n",
       "        vertical-align: middle;\n",
       "    }\n",
       "\n",
       "    .dataframe tbody tr th {\n",
       "        vertical-align: top;\n",
       "    }\n",
       "\n",
       "    .dataframe thead th {\n",
       "        text-align: right;\n",
       "    }\n",
       "</style>\n",
       "<table border=\"1\" class=\"dataframe\">\n",
       "  <thead>\n",
       "    <tr style=\"text-align: right;\">\n",
       "      <th></th>\n",
       "      <th>HP</th>\n",
       "      <th>VOL</th>\n",
       "      <th>SP</th>\n",
       "      <th>WT</th>\n",
       "    </tr>\n",
       "  </thead>\n",
       "  <tbody>\n",
       "    <tr>\n",
       "      <th>0</th>\n",
       "      <td>-1.206295</td>\n",
       "      <td>-0.440611</td>\n",
       "      <td>-1.231403</td>\n",
       "      <td>-0.490238</td>\n",
       "    </tr>\n",
       "    <tr>\n",
       "      <th>1</th>\n",
       "      <td>-1.100587</td>\n",
       "      <td>-0.305252</td>\n",
       "      <td>-1.140871</td>\n",
       "      <td>-0.261299</td>\n",
       "    </tr>\n",
       "    <tr>\n",
       "      <th>2</th>\n",
       "      <td>-1.100587</td>\n",
       "      <td>-0.305252</td>\n",
       "      <td>-1.140871</td>\n",
       "      <td>-0.297993</td>\n",
       "    </tr>\n",
       "    <tr>\n",
       "      <th>3</th>\n",
       "      <td>-0.836315</td>\n",
       "      <td>-0.305252</td>\n",
       "      <td>-0.573239</td>\n",
       "      <td>-0.239103</td>\n",
       "    </tr>\n",
       "    <tr>\n",
       "      <th>4</th>\n",
       "      <td>-1.135823</td>\n",
       "      <td>-0.305252</td>\n",
       "      <td>-1.211826</td>\n",
       "      <td>-0.338878</td>\n",
       "    </tr>\n",
       "    <tr>\n",
       "      <th>...</th>\n",
       "      <td>...</td>\n",
       "      <td>...</td>\n",
       "      <td>...</td>\n",
       "      <td>...</td>\n",
       "    </tr>\n",
       "    <tr>\n",
       "      <th>76</th>\n",
       "      <td>3.603442</td>\n",
       "      <td>-2.200268</td>\n",
       "      <td>3.409929</td>\n",
       "      <td>-2.186236</td>\n",
       "    </tr>\n",
       "    <tr>\n",
       "      <th>77</th>\n",
       "      <td>2.123523</td>\n",
       "      <td>0.732494</td>\n",
       "      <td>2.060245</td>\n",
       "      <td>0.740025</td>\n",
       "    </tr>\n",
       "    <tr>\n",
       "      <th>78</th>\n",
       "      <td>2.563975</td>\n",
       "      <td>-2.200268</td>\n",
       "      <td>2.132755</td>\n",
       "      <td>-2.235028</td>\n",
       "    </tr>\n",
       "    <tr>\n",
       "      <th>79</th>\n",
       "      <td>3.127754</td>\n",
       "      <td>0.912972</td>\n",
       "      <td>3.292567</td>\n",
       "      <td>0.941462</td>\n",
       "    </tr>\n",
       "    <tr>\n",
       "      <th>80</th>\n",
       "      <td>2.088287</td>\n",
       "      <td>0.371539</td>\n",
       "      <td>1.298499</td>\n",
       "      <td>0.340572</td>\n",
       "    </tr>\n",
       "  </tbody>\n",
       "</table>\n",
       "<p>81 rows × 4 columns</p>\n",
       "</div>"
      ],
      "text/plain": [
       "          HP       VOL        SP        WT\n",
       "0  -1.206295 -0.440611 -1.231403 -0.490238\n",
       "1  -1.100587 -0.305252 -1.140871 -0.261299\n",
       "2  -1.100587 -0.305252 -1.140871 -0.297993\n",
       "3  -0.836315 -0.305252 -0.573239 -0.239103\n",
       "4  -1.135823 -0.305252 -1.211826 -0.338878\n",
       "..       ...       ...       ...       ...\n",
       "76  3.603442 -2.200268  3.409929 -2.186236\n",
       "77  2.123523  0.732494  2.060245  0.740025\n",
       "78  2.563975 -2.200268  2.132755 -2.235028\n",
       "79  3.127754  0.912972  3.292567  0.941462\n",
       "80  2.088287  0.371539  1.298499  0.340572\n",
       "\n",
       "[81 rows x 4 columns]"
      ]
     },
     "execution_count": 41,
     "metadata": {},
     "output_type": "execute_result"
    }
   ],
   "source": [
    "##### As the Standardscaler output is obtained.We need to convert it into DataFrame format for further process.\n",
    "##### Here the point to be noted is ,when ever we are creating a dataframe we need to give colum namesto it or else by default it will start column names from 0.\n",
    "\n",
    "scaled_X=pd.DataFrame(data=scaled_X,columns=['HP','VOL','SP','WT'])\n",
    "scaled_X"
   ]
  },
  {
   "cell_type": "code",
   "execution_count": 42,
   "id": "5d2ee386",
   "metadata": {},
   "outputs": [
    {
     "data": {
      "text/plain": [
       "HP    -1.041691e-16\n",
       "VOL    5.825244e-17\n",
       "SP     1.274701e-15\n",
       "WT     1.170531e-15\n",
       "dtype: float64"
      ]
     },
     "execution_count": 42,
     "metadata": {},
     "output_type": "execute_result"
    }
   ],
   "source": [
    "# Now as the values are transformed we are going to train the model based on this transformed data.\n",
    "\n",
    "#Checking after standardization mean should be 0 and std should be 1.\n",
    "\n",
    "scaled_X.mean()\n",
    "\n",
    "\n",
    "# hence the mean of all the four input features is 0"
   ]
  },
  {
   "cell_type": "code",
   "execution_count": 43,
   "id": "51457def",
   "metadata": {},
   "outputs": [
    {
     "data": {
      "text/plain": [
       "HP     1.006231\n",
       "VOL    1.006231\n",
       "SP     1.006231\n",
       "WT     1.006231\n",
       "dtype: float64"
      ]
     },
     "execution_count": 43,
     "metadata": {},
     "output_type": "execute_result"
    }
   ],
   "source": [
    "scaled_X.std()\n",
    "\n",
    "# And the std of the four input features is 1"
   ]
  },
  {
   "cell_type": "code",
   "execution_count": 44,
   "id": "fa02ceb8",
   "metadata": {},
   "outputs": [
    {
     "data": {
      "text/plain": [
       "LinearRegression()"
      ]
     },
     "execution_count": 44,
     "metadata": {},
     "output_type": "execute_result"
    }
   ],
   "source": [
    "# STEP 09 : Model Training\n",
    "\n",
    "# Here we are going to fit the scaled features and the output features\n",
    "\n",
    "from sklearn.linear_model import LinearRegression\n",
    "linear_model_1=LinearRegression()\n",
    "linear_model_1.fit(scaled_X,y)"
   ]
  },
  {
   "cell_type": "code",
   "execution_count": 45,
   "id": "84972a3b",
   "metadata": {},
   "outputs": [],
   "source": [
    "# STEP 10:Model testing\n",
    "\n",
    "#Again here we need to test the data using the scaled input features.\n",
    "\n",
    "y_pred_1= linear_model_1.predict(scaled_X)\n",
    "\n",
    "# Here we got the output of Scaled input"
   ]
  },
  {
   "cell_type": "code",
   "execution_count": 46,
   "id": "5059e092",
   "metadata": {},
   "outputs": [
    {
     "data": {
      "text/html": [
       "<div>\n",
       "<style scoped>\n",
       "    .dataframe tbody tr th:only-of-type {\n",
       "        vertical-align: middle;\n",
       "    }\n",
       "\n",
       "    .dataframe tbody tr th {\n",
       "        vertical-align: top;\n",
       "    }\n",
       "\n",
       "    .dataframe thead th {\n",
       "        text-align: right;\n",
       "    }\n",
       "</style>\n",
       "<table border=\"1\" class=\"dataframe\">\n",
       "  <thead>\n",
       "    <tr style=\"text-align: right;\">\n",
       "      <th></th>\n",
       "      <th>MPG</th>\n",
       "    </tr>\n",
       "  </thead>\n",
       "  <tbody>\n",
       "    <tr>\n",
       "      <th>0</th>\n",
       "      <td>10.258747</td>\n",
       "    </tr>\n",
       "    <tr>\n",
       "      <th>1</th>\n",
       "      <td>7.624608</td>\n",
       "    </tr>\n",
       "    <tr>\n",
       "      <th>2</th>\n",
       "      <td>7.734060</td>\n",
       "    </tr>\n",
       "    <tr>\n",
       "      <th>3</th>\n",
       "      <td>3.157963</td>\n",
       "    </tr>\n",
       "    <tr>\n",
       "      <th>4</th>\n",
       "      <td>8.331584</td>\n",
       "    </tr>\n",
       "    <tr>\n",
       "      <th>...</th>\n",
       "      <td>...</td>\n",
       "    </tr>\n",
       "    <tr>\n",
       "      <th>76</th>\n",
       "      <td>15.617904</td>\n",
       "    </tr>\n",
       "    <tr>\n",
       "      <th>77</th>\n",
       "      <td>1.298838</td>\n",
       "    </tr>\n",
       "    <tr>\n",
       "      <th>78</th>\n",
       "      <td>7.863547</td>\n",
       "    </tr>\n",
       "    <tr>\n",
       "      <th>79</th>\n",
       "      <td>7.517122</td>\n",
       "    </tr>\n",
       "    <tr>\n",
       "      <th>80</th>\n",
       "      <td>-3.458218</td>\n",
       "    </tr>\n",
       "  </tbody>\n",
       "</table>\n",
       "<p>81 rows × 1 columns</p>\n",
       "</div>"
      ],
      "text/plain": [
       "          MPG\n",
       "0   10.258747\n",
       "1    7.624608\n",
       "2    7.734060\n",
       "3    3.157963\n",
       "4    8.331584\n",
       "..        ...\n",
       "76  15.617904\n",
       "77   1.298838\n",
       "78   7.863547\n",
       "79   7.517122\n",
       "80  -3.458218\n",
       "\n",
       "[81 rows x 1 columns]"
      ]
     },
     "execution_count": 46,
     "metadata": {},
     "output_type": "execute_result"
    }
   ],
   "source": [
    "# STEP 11: Model Evaluation\n",
    "\n",
    "error_1 = y-y_pred_1\n",
    "error_1\n",
    "# Hence the error is obtained from the data i.e, y actual - y predicted of scaled input"
   ]
  },
  {
   "cell_type": "code",
   "execution_count": 47,
   "id": "54ee1be8",
   "metadata": {},
   "outputs": [],
   "source": [
    "# Now , as all the input features are under one scale.We can perform Homoscadasticity check"
   ]
  },
  {
   "cell_type": "code",
   "execution_count": 48,
   "id": "74751e15",
   "metadata": {},
   "outputs": [
    {
     "data": {
      "image/png": "[encoded data removed]",
      "text/plain": [
       "<Figure size 432x288 with 1 Axes>"
      ]
     },
     "metadata": {
      "needs_background": "light"
     },
     "output_type": "display_data"
    }
   ],
   "source": [
    "# ASSUMPTION 05 : TEST FOR HOMOSCADASTICITY\n",
    "\n",
    "\n",
    "plt.scatter(x=scaled_X['HP'],y=error_1)\n",
    "plt.title(\"HOMOSCADASTICITY CHECK :  SCALED HP VS ERROR\")\n",
    "plt.xlabel(\"SCALED HP\")\n",
    "plt.ylabel(\"ERROR\")\n",
    "plt.show()\n",
    "\n",
    "#Now when we draw a line at 0 on y-axis ,there is no equal variance above and below the line.\n",
    "#So, here the homoscadasticity test is failed.\n",
    "# As there is no similar variance accross the line it called as heteroscedasticity."
   ]
  },
  {
   "cell_type": "code",
   "execution_count": 49,
   "id": "e29cb9cc",
   "metadata": {},
   "outputs": [
    {
     "data": {
      "image/png": "[encoded data removed]",
      "text/plain": [
       "<Figure size 432x288 with 1 Axes>"
      ]
     },
     "metadata": {
      "needs_background": "light"
     },
     "output_type": "display_data"
    }
   ],
   "source": [
    "plt.scatter(x=scaled_X['VOL'],y=error_1)\n",
    "plt.title(\"HOMOSCADASTICITY CHECK :  SCALED VOL VS ERROR\")\n",
    "plt.xlabel(\"SCALED VOL\")\n",
    "plt.ylabel(\"ERROR\")\n",
    "plt.show()\n",
    "\n",
    "#Similarly,Now when we draw a line at 0 on y-axis ,there is no equal variance above and below the line.\n",
    "# the upper limit is 15 and lower limit is -5 and the density of points is also not matched.\n",
    "#So, here the homoscadasticity test is failed."
   ]
  },
  {
   "cell_type": "code",
   "execution_count": 50,
   "id": "367c3695",
   "metadata": {},
   "outputs": [
    {
     "data": {
      "image/png": "[encoded data removed]",
      "text/plain": [
       "<Figure size 432x288 with 1 Axes>"
      ]
     },
     "metadata": {
      "needs_background": "light"
     },
     "output_type": "display_data"
    }
   ],
   "source": [
    "plt.scatter(x=scaled_X['SP'],y=error_1)\n",
    "plt.title(\"HOMOSCADASTICITY CHECK :  SCALED SP VS ERROR\")\n",
    "plt.xlabel(\"SCALED SP\")\n",
    "plt.ylabel(\"ERROR\")\n",
    "plt.show()\n",
    "\n",
    "#Here also ,Now when we draw a line at 0 on y-axis ,there is no equal variance above and below the line.\n",
    "#So, here the homoscadasticity test is failed.\n"
   ]
  },
  {
   "cell_type": "code",
   "execution_count": 51,
   "id": "56369a3b",
   "metadata": {},
   "outputs": [
    {
     "data": {
      "image/png": "[encoded data removed]",
      "text/plain": [
       "<Figure size 432x288 with 1 Axes>"
      ]
     },
     "metadata": {
      "needs_background": "light"
     },
     "output_type": "display_data"
    }
   ],
   "source": [
    "plt.scatter(x=scaled_X['WT'],y=error_1)\n",
    "plt.title(\"HOMOSCADASTICITY CHECK :  SCALED WT VS ERROR\")\n",
    "plt.xlabel(\"SCALED WT\")\n",
    "plt.ylabel(\"ERROR\")\n",
    "plt.show()\n",
    "\n",
    "#Here also , Now when we draw a line at 0 on y-axis ,there is no equal variance above and below the line.\n",
    "#So, here the homoscadasticity test is failed.\n"
   ]
  },
  {
   "cell_type": "code",
   "execution_count": 52,
   "id": "741db3af",
   "metadata": {},
   "outputs": [],
   "source": [
    "# so our observation is homoscedasticity test is failed."
   ]
  },
  {
   "cell_type": "code",
   "execution_count": 53,
   "id": "6d0139d2",
   "metadata": {},
   "outputs": [
    {
     "data": {
      "text/html": [
       "<div>\n",
       "<style scoped>\n",
       "    .dataframe tbody tr th:only-of-type {\n",
       "        vertical-align: middle;\n",
       "    }\n",
       "\n",
       "    .dataframe tbody tr th {\n",
       "        vertical-align: top;\n",
       "    }\n",
       "\n",
       "    .dataframe thead th {\n",
       "        text-align: right;\n",
       "    }\n",
       "</style>\n",
       "<table border=\"1\" class=\"dataframe\">\n",
       "  <thead>\n",
       "    <tr style=\"text-align: right;\">\n",
       "      <th></th>\n",
       "      <th>MPG</th>\n",
       "    </tr>\n",
       "  </thead>\n",
       "  <tbody>\n",
       "    <tr>\n",
       "      <th>0</th>\n",
       "      <td>53.700681</td>\n",
       "    </tr>\n",
       "    <tr>\n",
       "      <th>1</th>\n",
       "      <td>50.013401</td>\n",
       "    </tr>\n",
       "    <tr>\n",
       "      <th>2</th>\n",
       "      <td>50.013401</td>\n",
       "    </tr>\n",
       "    <tr>\n",
       "      <th>3</th>\n",
       "      <td>45.696322</td>\n",
       "    </tr>\n",
       "    <tr>\n",
       "      <th>4</th>\n",
       "      <td>50.504232</td>\n",
       "    </tr>\n",
       "    <tr>\n",
       "      <th>...</th>\n",
       "      <td>...</td>\n",
       "    </tr>\n",
       "    <tr>\n",
       "      <th>76</th>\n",
       "      <td>36.900000</td>\n",
       "    </tr>\n",
       "    <tr>\n",
       "      <th>77</th>\n",
       "      <td>19.197888</td>\n",
       "    </tr>\n",
       "    <tr>\n",
       "      <th>78</th>\n",
       "      <td>34.000000</td>\n",
       "    </tr>\n",
       "    <tr>\n",
       "      <th>79</th>\n",
       "      <td>19.833733</td>\n",
       "    </tr>\n",
       "    <tr>\n",
       "      <th>80</th>\n",
       "      <td>12.101263</td>\n",
       "    </tr>\n",
       "  </tbody>\n",
       "</table>\n",
       "<p>81 rows × 1 columns</p>\n",
       "</div>"
      ],
      "text/plain": [
       "          MPG\n",
       "0   53.700681\n",
       "1   50.013401\n",
       "2   50.013401\n",
       "3   45.696322\n",
       "4   50.504232\n",
       "..        ...\n",
       "76  36.900000\n",
       "77  19.197888\n",
       "78  34.000000\n",
       "79  19.833733\n",
       "80  12.101263\n",
       "\n",
       "[81 rows x 1 columns]"
      ]
     },
     "execution_count": 53,
     "metadata": {},
     "output_type": "execute_result"
    }
   ],
   "source": [
    "# AASUMPTION 06 : TEST FOR ZERO RESIDUAL MEAN\n",
    "\n",
    "y\n",
    "\n",
    "# This is my actual output"
   ]
  },
  {
   "cell_type": "code",
   "execution_count": 54,
   "id": "8ff8b2c4",
   "metadata": {},
   "outputs": [
    {
     "data": {
      "text/plain": [
       "array([[43.44193477],\n",
       "       [42.38879289],\n",
       "       [42.27934147],\n",
       "       [42.53835981],\n",
       "       [42.17264802],\n",
       "       [43.02061916],\n",
       "       [42.32536062],\n",
       "       [48.07621852],\n",
       "       [48.28120247],\n",
       "       [40.79122814],\n",
       "       [41.52153227],\n",
       "       [47.80956747],\n",
       "       [39.95980269],\n",
       "       [41.52757889],\n",
       "       [41.76632332],\n",
       "       [41.6181448 ],\n",
       "       [41.15094046],\n",
       "       [47.98605515],\n",
       "       [41.30861046],\n",
       "       [37.87127922],\n",
       "       [38.57706414],\n",
       "       [37.35199705],\n",
       "       [37.89770285],\n",
       "       [39.5625144 ],\n",
       "       [39.93380662],\n",
       "       [46.73870908],\n",
       "       [35.48165898],\n",
       "       [38.78152504],\n",
       "       [38.24861192],\n",
       "       [36.00285298],\n",
       "       [34.84603989],\n",
       "       [37.21630246],\n",
       "       [37.13919796],\n",
       "       [34.82541399],\n",
       "       [37.22361389],\n",
       "       [37.53950097],\n",
       "       [39.27144845],\n",
       "       [38.24219888],\n",
       "       [38.54286458],\n",
       "       [35.9391722 ],\n",
       "       [34.2129755 ],\n",
       "       [35.36313259],\n",
       "       [37.50473376],\n",
       "       [38.07998482],\n",
       "       [35.79651664],\n",
       "       [36.2613377 ],\n",
       "       [34.21826465],\n",
       "       [35.59393404],\n",
       "       [36.91805291],\n",
       "       [33.31108154],\n",
       "       [33.21313413],\n",
       "       [33.3023649 ],\n",
       "       [29.19864884],\n",
       "       [27.52358579],\n",
       "       [28.3207133 ],\n",
       "       [28.56722621],\n",
       "       [35.81583602],\n",
       "       [33.02108459],\n",
       "       [35.37334971],\n",
       "       [32.29909503],\n",
       "       [29.87685849],\n",
       "       [28.76093817],\n",
       "       [25.14188416],\n",
       "       [26.47040896],\n",
       "       [25.97651933],\n",
       "       [36.35652478],\n",
       "       [26.0975912 ],\n",
       "       [23.6416178 ],\n",
       "       [24.39887199],\n",
       "       [20.21195358],\n",
       "       [27.80846468],\n",
       "       [22.44206834],\n",
       "       [23.07667801],\n",
       "       [18.717314  ],\n",
       "       [23.84934696],\n",
       "       [21.07461275],\n",
       "       [21.28209598],\n",
       "       [17.89904991],\n",
       "       [26.13645315],\n",
       "       [12.31661154],\n",
       "       [15.55948057]])"
      ]
     },
     "execution_count": 54,
     "metadata": {},
     "output_type": "execute_result"
    }
   ],
   "source": [
    "y_pred_1"
   ]
  },
  {
   "cell_type": "markdown",
   "id": "ff99e4ce",
   "metadata": {},
   "source": [
    "###### NOTE : IF ALL THE ASSUMPTIONS ARE PASSED WE WILL BE GETTING THE BEST SLOPE AND INTERCEPT VALUES  (OR) IF ANY ONE ASSUMPTION IS NOT PASSED  THEN THE SLOPE AND INTERCEPT VALUES GET IMPACTED. \n",
    "\n",
    "###### SO ACCORDINGLY THE RESULT WILL GET IMPACTED AND THE PREDICTION WILL GET IMPACTED."
   ]
  },
  {
   "cell_type": "code",
   "execution_count": 55,
   "id": "d958f980",
   "metadata": {},
   "outputs": [
    {
     "data": {
      "image/png": "[encoded data removed]",
      "text/plain": [
       "<Figure size 432x288 with 1 Axes>"
      ]
     },
     "metadata": {
      "needs_background": "light"
     },
     "output_type": "display_data"
    }
   ],
   "source": [
    "plt.scatter(x=y,y=y_pred_1)\n",
    "plt.title(\"ZERO RESIDUAL MEAN CHECK : ACTUAL OUTPUT VS PREDICTED OUTPUT\")\n",
    "plt.xlabel(\"ACTUAL OUTPUT\")\n",
    "plt.ylabel(\"PREDICTED OUTPUT\")\n",
    "plt.show()\n",
    "\n",
    "# So when we are trying to draw a linear line ,the points are scattered .hence here we cannot get zero error here.\n",
    "# This graph is bit acceptable but we need to still optimize our model."
   ]
  },
  {
   "cell_type": "code",
   "execution_count": 56,
   "id": "443d485a",
   "metadata": {},
   "outputs": [
    {
     "data": {
      "text/plain": [
       "MPG    6.995776e-15\n",
       "dtype: float64"
      ]
     },
     "execution_count": 56,
     "metadata": {},
     "output_type": "execute_result"
    }
   ],
   "source": [
    "error_1.mean()"
   ]
  },
  {
   "cell_type": "code",
   "execution_count": 57,
   "id": "31f14824",
   "metadata": {},
   "outputs": [],
   "source": [
    "# So, the zero residual mean check is also failed"
   ]
  },
  {
   "cell_type": "code",
   "execution_count": 58,
   "id": "70da8f5a",
   "metadata": {},
   "outputs": [],
   "source": [
    "# Now we will learn how to otimize model performance and also we will see how the model we built is the best model. \n",
    "\n",
    "# So the key is evaluation metrics.So we will look into different evaluation metrics of Regression problem statement.And then we will understand how to optimize the model and normalize the data.\n",
    "# we will also look into Data transformation techniques."
   ]
  },
  {
   "cell_type": "markdown",
   "id": "4e24e019",
   "metadata": {},
   "source": [
    "###### Linear regression can be build using 2 libraries :\n",
    "###### 1. Statsmodels\n",
    "###### 2. sklearn\n",
    "\n",
    "#### NOW LETS BUILD OUR MODEL USING STATS MODELS"
   ]
  },
  {
   "cell_type": "code",
   "execution_count": 59,
   "id": "a5684b87",
   "metadata": {},
   "outputs": [
    {
     "data": {
      "text/html": [
       "<div>\n",
       "<style scoped>\n",
       "    .dataframe tbody tr th:only-of-type {\n",
       "        vertical-align: middle;\n",
       "    }\n",
       "\n",
       "    .dataframe tbody tr th {\n",
       "        vertical-align: top;\n",
       "    }\n",
       "\n",
       "    .dataframe thead th {\n",
       "        text-align: right;\n",
       "    }\n",
       "</style>\n",
       "<table border=\"1\" class=\"dataframe\">\n",
       "  <thead>\n",
       "    <tr style=\"text-align: right;\">\n",
       "      <th></th>\n",
       "      <th>HP</th>\n",
       "      <th>MPG</th>\n",
       "      <th>VOL</th>\n",
       "      <th>SP</th>\n",
       "      <th>WT</th>\n",
       "    </tr>\n",
       "  </thead>\n",
       "  <tbody>\n",
       "    <tr>\n",
       "      <th>0</th>\n",
       "      <td>49</td>\n",
       "      <td>53.700681</td>\n",
       "      <td>89</td>\n",
       "      <td>104.185353</td>\n",
       "      <td>28.762059</td>\n",
       "    </tr>\n",
       "    <tr>\n",
       "      <th>1</th>\n",
       "      <td>55</td>\n",
       "      <td>50.013401</td>\n",
       "      <td>92</td>\n",
       "      <td>105.461264</td>\n",
       "      <td>30.466833</td>\n",
       "    </tr>\n",
       "    <tr>\n",
       "      <th>2</th>\n",
       "      <td>55</td>\n",
       "      <td>50.013401</td>\n",
       "      <td>92</td>\n",
       "      <td>105.461264</td>\n",
       "      <td>30.193597</td>\n",
       "    </tr>\n",
       "    <tr>\n",
       "      <th>3</th>\n",
       "      <td>70</td>\n",
       "      <td>45.696322</td>\n",
       "      <td>92</td>\n",
       "      <td>113.461264</td>\n",
       "      <td>30.632114</td>\n",
       "    </tr>\n",
       "    <tr>\n",
       "      <th>4</th>\n",
       "      <td>53</td>\n",
       "      <td>50.504232</td>\n",
       "      <td>92</td>\n",
       "      <td>104.461264</td>\n",
       "      <td>29.889149</td>\n",
       "    </tr>\n",
       "  </tbody>\n",
       "</table>\n",
       "</div>"
      ],
      "text/plain": [
       "   HP        MPG  VOL          SP         WT\n",
       "0  49  53.700681   89  104.185353  28.762059\n",
       "1  55  50.013401   92  105.461264  30.466833\n",
       "2  55  50.013401   92  105.461264  30.193597\n",
       "3  70  45.696322   92  113.461264  30.632114\n",
       "4  53  50.504232   92  104.461264  29.889149"
      ]
     },
     "execution_count": 59,
     "metadata": {},
     "output_type": "execute_result"
    }
   ],
   "source": [
    "# USING STATSMODELS FOR LINEAR REGRESSION\n",
    "\n",
    "cars_data.head()"
   ]
  },
  {
   "cell_type": "code",
   "execution_count": 60,
   "id": "a044c31c",
   "metadata": {},
   "outputs": [],
   "source": [
    "X=cars_data.drop(labels='MPG',axis=1)\n",
    "y=cars_data[['MPG']]"
   ]
  },
  {
   "cell_type": "code",
   "execution_count": 61,
   "id": "f7d594e9",
   "metadata": {},
   "outputs": [
    {
     "data": {
      "text/plain": [
       "<statsmodels.regression.linear_model.RegressionResultsWrapper at 0x24551062400>"
      ]
     },
     "execution_count": 61,
     "metadata": {},
     "output_type": "execute_result"
    }
   ],
   "source": [
    "# import necessary libraries  and perform model training \n",
    "# here we use statsmodels as there are lot of evaluation metrics for linear regression\n",
    "# While using sklearn library ,for model building we split the data into X and y  and then import linearregression where we create linear regression and initialize to an object and then w.r.t that object using X and y we fit it into LinearRegression().\n",
    "# But coming to stats model we can use smf.ols technique with in the string we have to give the particular formula i.e. ('output ~ input ') .And then we use .fit\n",
    "# Here MPG is output and HP,VOL,SP,WT are the input features.\n",
    "\n",
    "\n",
    "\n",
    "import statsmodels.formula.api as smf\n",
    "linear_model_2=smf.ols(formula='MPG ~ HP+VOL+SP+WT',data=cars_data).fit()\n",
    "linear_model_2"
   ]
  },
  {
   "cell_type": "code",
   "execution_count": 62,
   "id": "5b99d3fd",
   "metadata": {},
   "outputs": [],
   "source": [
    "# Understanding the evaluation metrics"
   ]
  },
  {
   "cell_type": "code",
   "execution_count": 63,
   "id": "70658609",
   "metadata": {},
   "outputs": [
    {
     "data": {
      "text/plain": [
       "Intercept    30.677336\n",
       "HP           -0.205444\n",
       "VOL          -0.336051\n",
       "SP            0.395627\n",
       "WT            0.400574\n",
       "dtype: float64"
      ]
     },
     "execution_count": 63,
     "metadata": {},
     "output_type": "execute_result"
    }
   ],
   "source": [
    "linear_model_2.params\n",
    "\n",
    "# when we are having multiple inputs we get slopes for each feature and an intercept as below.\n",
    "# The equation of MLR is y=BoX1+B1X2+B2X3+B3X4+C\n"
   ]
  },
  {
   "cell_type": "code",
   "execution_count": 64,
   "id": "32e3ceed",
   "metadata": {},
   "outputs": [
    {
     "data": {
      "text/plain": [
       "Intercept    0.042936\n",
       "HP           0.000001\n",
       "VOL          0.556294\n",
       "SP           0.014579\n",
       "WT           0.813649\n",
       "dtype: float64"
      ]
     },
     "execution_count": 64,
     "metadata": {},
     "output_type": "execute_result"
    }
   ],
   "source": [
    "linear_model_2.pvalues\n",
    "\n",
    "# In general the pvalue speaks about whether the null hypothesis is accepted or alternate hypothesis is accepted.\n",
    "# Now what this pvalue signifies is whether the feature is significant or not significant.\n",
    "# Here we focus on input parameters only because only these feature will have slopes.So the collected parameter is a significant parameter or insignificant parameter we will get to know based on the p value.\n",
    "\n",
    "# So to know the significance to the parameter we go with the p-value.\n",
    "\n",
    "# Now keeping level of significance as 5%.We need to create null and alternate hypothesis.\n",
    "\n",
    "# NULL HYPOTHESIS : The input parameter doesnot make any difference in mileage prediction.Hence the feature X is not significant\n",
    "# ALTERNATE HYPTHESIS :The input parameter makes a difference in mileage prediction.Hence the input feature is significant.\n",
    "# At 5% level of significance , If p-value is lessthan 0.05 null hypothesis is rejected and alternate hypothesis is accepted.\n",
    "# Orelse, the if p-value is greater than 0.05 the null hypothesis is accepted\n",
    "\n",
    "\n",
    "# now at 5% level of significance HP is 0.00 which means that it is less than 0.05 so we reject the null hypothesis and say HP is a significant feature for MPG prediction.\n",
    "# now coming to VOL it is not less than 0.05  .So VOL is not a significant parameter for mileage prediction.\n",
    "# now coming to SP it is less than 0.05 .So SP is a significant parameter for mileage prediction.\n",
    "# now coming to WT it is greater than 0.05. So WT is not a significant parameter for mileage prediction.\n",
    "\n",
    "\n",
    "# Based on domain knowledge we know that based on Volume of the car and Weight of the car the MPG decreases /varies.\n",
    "\n",
    "# NOTE : Simply with theoritical knowledge we should never drop or reject any feature.So in such a case we need to understand why VOL and WT is shown as not a significant feature.\n",
    "# Here the problem is due to multicollinearity problem the vol and weight of the  according to normal distribution it is showing it is not a significant feature.\n",
    "# So now lets remove multi collinearity problem .By droping any one of the feature the multi collinearity can be removed."
   ]
  },
  {
   "cell_type": "code",
   "execution_count": 65,
   "id": "91b6d00f",
   "metadata": {},
   "outputs": [
    {
     "name": "stdout",
     "output_type": "stream",
     "text": [
      "R2 SCORE                    : 0.77054\n",
      "ADJUSTED R2 SCORE           : 0.75846\n",
      "AIC                         : 477.9279\n",
      "BIC                         : 489.90015\n"
     ]
    }
   ],
   "source": [
    "# Based on statsmodels - The evaluation metrics of regression problem statement are as follows : 1. p-value 2. r-squared 3.Adj r-squared 4. aic 5. bic\n",
    "\n",
    "print(\"R2 SCORE                    :\",round(linear_model_2.rsquared,5)) # contribution of input featre towards the prediction.\n",
    "print(\"ADJUSTED R2 SCORE           :\",round(linear_model_2.rsquared_adj,5))  # contribution of input featre towards the prediction.\n",
    "print(\"AIC                         :\",round(linear_model_2.aic,5))\n",
    "print(\"BIC                         :\",round(linear_model_2.bic,5))\n",
    "\n",
    "# By rsquared score : from this we came to know that together all the 4 input features ,for mileage prediction they contribute 77% .\n",
    "# Inorder to make it 100% or 95% .The one case is we have to collect some other data or the other case is the data need to follow all the assumptions.\n",
    "# If the particular HP,VOL,SP,WT is following all the assumptions then the contribution will be definetly increased.\n",
    "# So, finally rsquare speaks about over contribution of the input features.\n",
    "# Here ,we also have adjusted rsquare .\n",
    "\n",
    "# To answer the question how do you say that the model you build is the best model?\n",
    "# We have to look into all these parameters not only the error we have to look into all the other features before declarig the model is the best model."
   ]
  },
  {
   "cell_type": "code",
   "execution_count": 66,
   "id": "b3b54086",
   "metadata": {},
   "outputs": [
    {
     "name": "stdout",
     "output_type": "stream",
     "text": [
      "R2 SCORE                    : 0.52568\n",
      "ADJUSTED R2 SCORE           : 0.51968\n",
      "AIC                         : 530.74527\n",
      "BIC                         : 535.53417\n"
     ]
    }
   ],
   "source": [
    "#Here we are just considering HP as input feature and building the model\n",
    "import statsmodels.formula.api as smf\n",
    "model_1 = smf.ols(formula = 'MPG~ HP',data=cars_data).fit()\n",
    "\n",
    "print(\"R2 SCORE                    :\",round(model_1.rsquared,5)) # contribution of input featre towards the prediction.\n",
    "print(\"ADJUSTED R2 SCORE           :\",round(model_1.rsquared_adj,5))  # contribution of input featre towards the prediction if it is really required.\n",
    "print(\"AIC                         :\",round(model_1.aic,5))\n",
    "print(\"BIC                         :\",round(model_1.bic,5))\n",
    "\n",
    "#So here the contribution of HP for MPG is 52% only .So,inorder to increase the contribution we need to collect some other features."
   ]
  },
  {
   "cell_type": "code",
   "execution_count": 67,
   "id": "e9179db8",
   "metadata": {},
   "outputs": [
    {
     "data": {
      "text/html": [
       "<table class=\"simpletable\">\n",
       "<caption>OLS Regression Results</caption>\n",
       "<tr>\n",
       "  <th>Dep. Variable:</th>           <td>MPG</td>       <th>  R-squared:         </th> <td>   0.526</td>\n",
       "</tr>\n",
       "<tr>\n",
       "  <th>Model:</th>                   <td>OLS</td>       <th>  Adj. R-squared:    </th> <td>   0.520</td>\n",
       "</tr>\n",
       "<tr>\n",
       "  <th>Method:</th>             <td>Least Squares</td>  <th>  F-statistic:       </th> <td>   87.55</td>\n",
       "</tr>\n",
       "<tr>\n",
       "  <th>Date:</th>             <td>Fri, 20 May 2022</td> <th>  Prob (F-statistic):</th> <td>1.96e-14</td>\n",
       "</tr>\n",
       "<tr>\n",
       "  <th>Time:</th>                 <td>18:27:15</td>     <th>  Log-Likelihood:    </th> <td> -263.37</td>\n",
       "</tr>\n",
       "<tr>\n",
       "  <th>No. Observations:</th>      <td>    81</td>      <th>  AIC:               </th> <td>   530.7</td>\n",
       "</tr>\n",
       "<tr>\n",
       "  <th>Df Residuals:</th>          <td>    79</td>      <th>  BIC:               </th> <td>   535.5</td>\n",
       "</tr>\n",
       "<tr>\n",
       "  <th>Df Model:</th>              <td>     1</td>      <th>                     </th>     <td> </td>   \n",
       "</tr>\n",
       "<tr>\n",
       "  <th>Covariance Type:</th>      <td>nonrobust</td>    <th>                     </th>     <td> </td>   \n",
       "</tr>\n",
       "</table>\n",
       "<table class=\"simpletable\">\n",
       "<tr>\n",
       "      <td></td>         <th>coef</th>     <th>std err</th>      <th>t</th>      <th>P>|t|</th>  <th>[0.025</th>    <th>0.975]</th>  \n",
       "</tr>\n",
       "<tr>\n",
       "  <th>Intercept</th> <td>   48.0392</td> <td>    1.616</td> <td>   29.722</td> <td> 0.000</td> <td>   44.822</td> <td>   51.256</td>\n",
       "</tr>\n",
       "<tr>\n",
       "  <th>HP</th>        <td>   -0.1159</td> <td>    0.012</td> <td>   -9.357</td> <td> 0.000</td> <td>   -0.141</td> <td>   -0.091</td>\n",
       "</tr>\n",
       "</table>\n",
       "<table class=\"simpletable\">\n",
       "<tr>\n",
       "  <th>Omnibus:</th>       <td>20.653</td> <th>  Durbin-Watson:     </th> <td>   1.155</td>\n",
       "</tr>\n",
       "<tr>\n",
       "  <th>Prob(Omnibus):</th> <td> 0.000</td> <th>  Jarque-Bera (JB):  </th> <td>  37.053</td>\n",
       "</tr>\n",
       "<tr>\n",
       "  <th>Skew:</th>          <td> 0.949</td> <th>  Prob(JB):          </th> <td>9.00e-09</td>\n",
       "</tr>\n",
       "<tr>\n",
       "  <th>Kurtosis:</th>      <td> 5.716</td> <th>  Cond. No.          </th> <td>    300.</td>\n",
       "</tr>\n",
       "</table><br/><br/>Notes:<br/>[1] Standard Errors assume that the covariance matrix of the errors is correctly specified."
      ],
      "text/plain": [
       "<class 'statsmodels.iolib.summary.Summary'>\n",
       "\"\"\"\n",
       "                            OLS Regression Results                            \n",
       "==============================================================================\n",
       "Dep. Variable:                    MPG   R-squared:                       0.526\n",
       "Model:                            OLS   Adj. R-squared:                  0.520\n",
       "Method:                 Least Squares   F-statistic:                     87.55\n",
       "Date:                Fri, 20 May 2022   Prob (F-statistic):           1.96e-14\n",
       "Time:                        18:27:15   Log-Likelihood:                -263.37\n",
       "No. Observations:                  81   AIC:                             530.7\n",
       "Df Residuals:                      79   BIC:                             535.5\n",
       "Df Model:                           1                                         \n",
       "Covariance Type:            nonrobust                                         \n",
       "==============================================================================\n",
       "                 coef    std err          t      P>|t|      [0.025      0.975]\n",
       "------------------------------------------------------------------------------\n",
       "Intercept     48.0392      1.616     29.722      0.000      44.822      51.256\n",
       "HP            -0.1159      0.012     -9.357      0.000      -0.141      -0.091\n",
       "==============================================================================\n",
       "Omnibus:                       20.653   Durbin-Watson:                   1.155\n",
       "Prob(Omnibus):                  0.000   Jarque-Bera (JB):               37.053\n",
       "Skew:                           0.949   Prob(JB):                     9.00e-09\n",
       "Kurtosis:                       5.716   Cond. No.                         300.\n",
       "==============================================================================\n",
       "\n",
       "Notes:\n",
       "[1] Standard Errors assume that the covariance matrix of the errors is correctly specified.\n",
       "\"\"\""
      ]
     },
     "execution_count": 67,
     "metadata": {},
     "output_type": "execute_result"
    }
   ],
   "source": [
    "model_1.summary()\n",
    "\n",
    "# When we try to check the summary of model we find rsquare,adjusted rsquare,f-statistics,aic,bic,and coeff,HP slope value ,t-value,\n",
    "# All these are evaluation metrics.Here we just focus on few of them which are very much important and more than sufficient for us to say that any regression problem w.r.t linear regression what ever we have build is the best model.\n",
    "# The frequently used evaluation metrics will be touched here."
   ]
  },
  {
   "cell_type": "code",
   "execution_count": 68,
   "id": "f3bf812d",
   "metadata": {},
   "outputs": [
    {
     "name": "stdout",
     "output_type": "stream",
     "text": [
      "R2 SCORE                    : 0.75066\n",
      "ADJUSTED R2 SCORE           : 0.74427\n",
      "AIC                         : 480.65692\n",
      "BIC                         : 487.84027\n"
     ]
    }
   ],
   "source": [
    "# Now we are adding one more feature i.e. VOL\n",
    "model_2 = smf.ols(formula = 'MPG~ HP+VOL',data=cars_data).fit()\n",
    "\n",
    "print(\"R2 SCORE                    :\",round(model_2.rsquared,5)) # contribution of input featre towards the prediction.\n",
    "print(\"ADJUSTED R2 SCORE           :\",round(model_2.rsquared_adj,5))  # contribution of input featre towards the prediction if it is really required.\n",
    "print(\"AIC                         :\",round(model_2.aic,5))\n",
    "print(\"BIC                         :\",round(model_2.bic,5))\n",
    "\n",
    "# When VOL is added to the HP the contibution towards MPG is increased to 75%"
   ]
  },
  {
   "cell_type": "code",
   "execution_count": 69,
   "id": "b7ef123a",
   "metadata": {},
   "outputs": [
    {
     "data": {
      "text/html": [
       "<table class=\"simpletable\">\n",
       "<caption>OLS Regression Results</caption>\n",
       "<tr>\n",
       "  <th>Dep. Variable:</th>           <td>MPG</td>       <th>  R-squared:         </th> <td>   0.751</td>\n",
       "</tr>\n",
       "<tr>\n",
       "  <th>Model:</th>                   <td>OLS</td>       <th>  Adj. R-squared:    </th> <td>   0.744</td>\n",
       "</tr>\n",
       "<tr>\n",
       "  <th>Method:</th>             <td>Least Squares</td>  <th>  F-statistic:       </th> <td>   117.4</td>\n",
       "</tr>\n",
       "<tr>\n",
       "  <th>Date:</th>             <td>Fri, 20 May 2022</td> <th>  Prob (F-statistic):</th> <td>2.98e-24</td>\n",
       "</tr>\n",
       "<tr>\n",
       "  <th>Time:</th>                 <td>18:27:15</td>     <th>  Log-Likelihood:    </th> <td> -237.33</td>\n",
       "</tr>\n",
       "<tr>\n",
       "  <th>No. Observations:</th>      <td>    81</td>      <th>  AIC:               </th> <td>   480.7</td>\n",
       "</tr>\n",
       "<tr>\n",
       "  <th>Df Residuals:</th>          <td>    78</td>      <th>  BIC:               </th> <td>   487.8</td>\n",
       "</tr>\n",
       "<tr>\n",
       "  <th>Df Model:</th>              <td>     2</td>      <th>                     </th>     <td> </td>   \n",
       "</tr>\n",
       "<tr>\n",
       "  <th>Covariance Type:</th>      <td>nonrobust</td>    <th>                     </th>     <td> </td>   \n",
       "</tr>\n",
       "</table>\n",
       "<table class=\"simpletable\">\n",
       "<tr>\n",
       "      <td></td>         <th>coef</th>     <th>std err</th>      <th>t</th>      <th>P>|t|</th>  <th>[0.025</th>    <th>0.975]</th>  \n",
       "</tr>\n",
       "<tr>\n",
       "  <th>Intercept</th> <td>   66.5864</td> <td>    2.506</td> <td>   26.574</td> <td> 0.000</td> <td>   61.598</td> <td>   71.575</td>\n",
       "</tr>\n",
       "<tr>\n",
       "  <th>HP</th>        <td>   -0.1100</td> <td>    0.009</td> <td>  -12.135</td> <td> 0.000</td> <td>   -0.128</td> <td>   -0.092</td>\n",
       "</tr>\n",
       "<tr>\n",
       "  <th>VOL</th>       <td>   -0.1948</td> <td>    0.023</td> <td>   -8.389</td> <td> 0.000</td> <td>   -0.241</td> <td>   -0.149</td>\n",
       "</tr>\n",
       "</table>\n",
       "<table class=\"simpletable\">\n",
       "<tr>\n",
       "  <th>Omnibus:</th>       <td> 4.802</td> <th>  Durbin-Watson:     </th> <td>   1.360</td>\n",
       "</tr>\n",
       "<tr>\n",
       "  <th>Prob(Omnibus):</th> <td> 0.091</td> <th>  Jarque-Bera (JB):  </th> <td>   4.006</td>\n",
       "</tr>\n",
       "<tr>\n",
       "  <th>Skew:</th>          <td> 0.482</td> <th>  Prob(JB):          </th> <td>   0.135</td>\n",
       "</tr>\n",
       "<tr>\n",
       "  <th>Kurtosis:</th>      <td> 3.506</td> <th>  Cond. No.          </th> <td>    785.</td>\n",
       "</tr>\n",
       "</table><br/><br/>Notes:<br/>[1] Standard Errors assume that the covariance matrix of the errors is correctly specified."
      ],
      "text/plain": [
       "<class 'statsmodels.iolib.summary.Summary'>\n",
       "\"\"\"\n",
       "                            OLS Regression Results                            \n",
       "==============================================================================\n",
       "Dep. Variable:                    MPG   R-squared:                       0.751\n",
       "Model:                            OLS   Adj. R-squared:                  0.744\n",
       "Method:                 Least Squares   F-statistic:                     117.4\n",
       "Date:                Fri, 20 May 2022   Prob (F-statistic):           2.98e-24\n",
       "Time:                        18:27:15   Log-Likelihood:                -237.33\n",
       "No. Observations:                  81   AIC:                             480.7\n",
       "Df Residuals:                      78   BIC:                             487.8\n",
       "Df Model:                           2                                         \n",
       "Covariance Type:            nonrobust                                         \n",
       "==============================================================================\n",
       "                 coef    std err          t      P>|t|      [0.025      0.975]\n",
       "------------------------------------------------------------------------------\n",
       "Intercept     66.5864      2.506     26.574      0.000      61.598      71.575\n",
       "HP            -0.1100      0.009    -12.135      0.000      -0.128      -0.092\n",
       "VOL           -0.1948      0.023     -8.389      0.000      -0.241      -0.149\n",
       "==============================================================================\n",
       "Omnibus:                        4.802   Durbin-Watson:                   1.360\n",
       "Prob(Omnibus):                  0.091   Jarque-Bera (JB):                4.006\n",
       "Skew:                           0.482   Prob(JB):                        0.135\n",
       "Kurtosis:                       3.506   Cond. No.                         785.\n",
       "==============================================================================\n",
       "\n",
       "Notes:\n",
       "[1] Standard Errors assume that the covariance matrix of the errors is correctly specified.\n",
       "\"\"\""
      ]
     },
     "execution_count": 69,
     "metadata": {},
     "output_type": "execute_result"
    }
   ],
   "source": [
    "model_2.summary()"
   ]
  },
  {
   "cell_type": "code",
   "execution_count": 70,
   "id": "42b93cda",
   "metadata": {},
   "outputs": [
    {
     "name": "stdout",
     "output_type": "stream",
     "text": [
      "R2 SCORE                    : 0.77037\n",
      "ADJUSTED R2 SCORE           : 0.76142\n",
      "AIC                         : 475.98752\n",
      "BIC                         : 485.56531\n"
     ]
    }
   ],
   "source": [
    "# Now we are adding one more feature i.e, SP\n",
    "model_3 = smf.ols(formula = 'MPG~ HP+VOL+SP',data=cars_data).fit()\n",
    "\n",
    "print(\"R2 SCORE                    :\",round(model_3.rsquared,5)) # contribution of input featre towards the prediction.\n",
    "print(\"ADJUSTED R2 SCORE           :\",round(model_3.rsquared_adj,5))  # contribution of input featre towards the prediction.\n",
    "print(\"AIC                         :\",round(model_3.aic,5))\n",
    "print(\"BIC                         :\",round(model_3.bic,5))\n",
    "\n",
    "# When SP is added to the HP+VOL the contibution towards MPG is increased to 77%"
   ]
  },
  {
   "cell_type": "code",
   "execution_count": 71,
   "id": "9e417b47",
   "metadata": {},
   "outputs": [
    {
     "data": {
      "text/html": [
       "<table class=\"simpletable\">\n",
       "<caption>OLS Regression Results</caption>\n",
       "<tr>\n",
       "  <th>Dep. Variable:</th>           <td>MPG</td>       <th>  R-squared:         </th> <td>   0.770</td>\n",
       "</tr>\n",
       "<tr>\n",
       "  <th>Model:</th>                   <td>OLS</td>       <th>  Adj. R-squared:    </th> <td>   0.761</td>\n",
       "</tr>\n",
       "<tr>\n",
       "  <th>Method:</th>             <td>Least Squares</td>  <th>  F-statistic:       </th> <td>   86.11</td>\n",
       "</tr>\n",
       "<tr>\n",
       "  <th>Date:</th>             <td>Fri, 20 May 2022</td> <th>  Prob (F-statistic):</th> <td>1.56e-24</td>\n",
       "</tr>\n",
       "<tr>\n",
       "  <th>Time:</th>                 <td>18:27:15</td>     <th>  Log-Likelihood:    </th> <td> -233.99</td>\n",
       "</tr>\n",
       "<tr>\n",
       "  <th>No. Observations:</th>      <td>    81</td>      <th>  AIC:               </th> <td>   476.0</td>\n",
       "</tr>\n",
       "<tr>\n",
       "  <th>Df Residuals:</th>          <td>    77</td>      <th>  BIC:               </th> <td>   485.6</td>\n",
       "</tr>\n",
       "<tr>\n",
       "  <th>Df Model:</th>              <td>     3</td>      <th>                     </th>     <td> </td>   \n",
       "</tr>\n",
       "<tr>\n",
       "  <th>Covariance Type:</th>      <td>nonrobust</td>    <th>                     </th>     <td> </td>   \n",
       "</tr>\n",
       "</table>\n",
       "<table class=\"simpletable\">\n",
       "<tr>\n",
       "      <td></td>         <th>coef</th>     <th>std err</th>      <th>t</th>      <th>P>|t|</th>  <th>[0.025</th>    <th>0.975]</th>  \n",
       "</tr>\n",
       "<tr>\n",
       "  <th>Intercept</th> <td>   29.9234</td> <td>   14.466</td> <td>    2.069</td> <td> 0.042</td> <td>    1.118</td> <td>   58.729</td>\n",
       "</tr>\n",
       "<tr>\n",
       "  <th>HP</th>        <td>   -0.2067</td> <td>    0.039</td> <td>   -5.353</td> <td> 0.000</td> <td>   -0.284</td> <td>   -0.130</td>\n",
       "</tr>\n",
       "<tr>\n",
       "  <th>VOL</th>       <td>   -0.2017</td> <td>    0.023</td> <td>   -8.928</td> <td> 0.000</td> <td>   -0.247</td> <td>   -0.157</td>\n",
       "</tr>\n",
       "<tr>\n",
       "  <th>SP</th>        <td>    0.4007</td> <td>    0.156</td> <td>    2.571</td> <td> 0.012</td> <td>    0.090</td> <td>    0.711</td>\n",
       "</tr>\n",
       "</table>\n",
       "<table class=\"simpletable\">\n",
       "<tr>\n",
       "  <th>Omnibus:</th>       <td>10.810</td> <th>  Durbin-Watson:     </th> <td>   1.389</td>\n",
       "</tr>\n",
       "<tr>\n",
       "  <th>Prob(Omnibus):</th> <td> 0.004</td> <th>  Jarque-Bera (JB):  </th> <td>  11.822</td>\n",
       "</tr>\n",
       "<tr>\n",
       "  <th>Skew:</th>          <td> 0.704</td> <th>  Prob(JB):          </th> <td> 0.00271</td>\n",
       "</tr>\n",
       "<tr>\n",
       "  <th>Kurtosis:</th>      <td> 4.233</td> <th>  Cond. No.          </th> <td>5.87e+03</td>\n",
       "</tr>\n",
       "</table><br/><br/>Notes:<br/>[1] Standard Errors assume that the covariance matrix of the errors is correctly specified.<br/>[2] The condition number is large, 5.87e+03. This might indicate that there are<br/>strong multicollinearity or other numerical problems."
      ],
      "text/plain": [
       "<class 'statsmodels.iolib.summary.Summary'>\n",
       "\"\"\"\n",
       "                            OLS Regression Results                            \n",
       "==============================================================================\n",
       "Dep. Variable:                    MPG   R-squared:                       0.770\n",
       "Model:                            OLS   Adj. R-squared:                  0.761\n",
       "Method:                 Least Squares   F-statistic:                     86.11\n",
       "Date:                Fri, 20 May 2022   Prob (F-statistic):           1.56e-24\n",
       "Time:                        18:27:15   Log-Likelihood:                -233.99\n",
       "No. Observations:                  81   AIC:                             476.0\n",
       "Df Residuals:                      77   BIC:                             485.6\n",
       "Df Model:                           3                                         \n",
       "Covariance Type:            nonrobust                                         \n",
       "==============================================================================\n",
       "                 coef    std err          t      P>|t|      [0.025      0.975]\n",
       "------------------------------------------------------------------------------\n",
       "Intercept     29.9234     14.466      2.069      0.042       1.118      58.729\n",
       "HP            -0.2067      0.039     -5.353      0.000      -0.284      -0.130\n",
       "VOL           -0.2017      0.023     -8.928      0.000      -0.247      -0.157\n",
       "SP             0.4007      0.156      2.571      0.012       0.090       0.711\n",
       "==============================================================================\n",
       "Omnibus:                       10.810   Durbin-Watson:                   1.389\n",
       "Prob(Omnibus):                  0.004   Jarque-Bera (JB):               11.822\n",
       "Skew:                           0.704   Prob(JB):                      0.00271\n",
       "Kurtosis:                       4.233   Cond. No.                     5.87e+03\n",
       "==============================================================================\n",
       "\n",
       "Notes:\n",
       "[1] Standard Errors assume that the covariance matrix of the errors is correctly specified.\n",
       "[2] The condition number is large, 5.87e+03. This might indicate that there are\n",
       "strong multicollinearity or other numerical problems.\n",
       "\"\"\""
      ]
     },
     "execution_count": 71,
     "metadata": {},
     "output_type": "execute_result"
    }
   ],
   "source": [
    "model_3.summary()"
   ]
  },
  {
   "cell_type": "code",
   "execution_count": 72,
   "id": "7090af6c",
   "metadata": {},
   "outputs": [
    {
     "name": "stdout",
     "output_type": "stream",
     "text": [
      "R2 SCORE                    : 0.77054\n",
      "ADJUSTED R2 SCORE           : 0.75846\n",
      "AIC                         : 477.9279\n",
      "BIC                         : 489.90015\n"
     ]
    }
   ],
   "source": [
    "# Now we are adding one more feature i.e, WT\n",
    "model_4 = smf.ols(formula = 'MPG~ HP+VOL+SP+WT',data=cars_data).fit()\n",
    "\n",
    "print(\"R2 SCORE                    :\",round(model_4.rsquared,5)) # contribution of input featre towards the prediction.\n",
    "print(\"ADJUSTED R2 SCORE           :\",round(model_4.rsquared_adj,5))  # contribution of input featre towards the prediction if it is really required.\n",
    "print(\"AIC                         :\",round(model_4.aic,5))\n",
    "print(\"BIC                         :\",round(model_4.bic,5))\n",
    "\n",
    "# When WT is added to the HP+VOL+SP the contibution towards MPG is again 77%.\n"
   ]
  },
  {
   "cell_type": "code",
   "execution_count": 73,
   "id": "5c33ff97",
   "metadata": {},
   "outputs": [
    {
     "data": {
      "text/html": [
       "<table class=\"simpletable\">\n",
       "<caption>OLS Regression Results</caption>\n",
       "<tr>\n",
       "  <th>Dep. Variable:</th>           <td>MPG</td>       <th>  R-squared:         </th> <td>   0.771</td>\n",
       "</tr>\n",
       "<tr>\n",
       "  <th>Model:</th>                   <td>OLS</td>       <th>  Adj. R-squared:    </th> <td>   0.758</td>\n",
       "</tr>\n",
       "<tr>\n",
       "  <th>Method:</th>             <td>Least Squares</td>  <th>  F-statistic:       </th> <td>   63.80</td>\n",
       "</tr>\n",
       "<tr>\n",
       "  <th>Date:</th>             <td>Fri, 20 May 2022</td> <th>  Prob (F-statistic):</th> <td>1.54e-23</td>\n",
       "</tr>\n",
       "<tr>\n",
       "  <th>Time:</th>                 <td>18:27:15</td>     <th>  Log-Likelihood:    </th> <td> -233.96</td>\n",
       "</tr>\n",
       "<tr>\n",
       "  <th>No. Observations:</th>      <td>    81</td>      <th>  AIC:               </th> <td>   477.9</td>\n",
       "</tr>\n",
       "<tr>\n",
       "  <th>Df Residuals:</th>          <td>    76</td>      <th>  BIC:               </th> <td>   489.9</td>\n",
       "</tr>\n",
       "<tr>\n",
       "  <th>Df Model:</th>              <td>     4</td>      <th>                     </th>     <td> </td>   \n",
       "</tr>\n",
       "<tr>\n",
       "  <th>Covariance Type:</th>      <td>nonrobust</td>    <th>                     </th>     <td> </td>   \n",
       "</tr>\n",
       "</table>\n",
       "<table class=\"simpletable\">\n",
       "<tr>\n",
       "      <td></td>         <th>coef</th>     <th>std err</th>      <th>t</th>      <th>P>|t|</th>  <th>[0.025</th>    <th>0.975]</th>  \n",
       "</tr>\n",
       "<tr>\n",
       "  <th>Intercept</th> <td>   30.6773</td> <td>   14.900</td> <td>    2.059</td> <td> 0.043</td> <td>    1.001</td> <td>   60.354</td>\n",
       "</tr>\n",
       "<tr>\n",
       "  <th>HP</th>        <td>   -0.2054</td> <td>    0.039</td> <td>   -5.239</td> <td> 0.000</td> <td>   -0.284</td> <td>   -0.127</td>\n",
       "</tr>\n",
       "<tr>\n",
       "  <th>VOL</th>       <td>   -0.3361</td> <td>    0.569</td> <td>   -0.591</td> <td> 0.556</td> <td>   -1.469</td> <td>    0.796</td>\n",
       "</tr>\n",
       "<tr>\n",
       "  <th>SP</th>        <td>    0.3956</td> <td>    0.158</td> <td>    2.500</td> <td> 0.015</td> <td>    0.080</td> <td>    0.711</td>\n",
       "</tr>\n",
       "<tr>\n",
       "  <th>WT</th>        <td>    0.4006</td> <td>    1.693</td> <td>    0.237</td> <td> 0.814</td> <td>   -2.972</td> <td>    3.773</td>\n",
       "</tr>\n",
       "</table>\n",
       "<table class=\"simpletable\">\n",
       "<tr>\n",
       "  <th>Omnibus:</th>       <td>10.780</td> <th>  Durbin-Watson:     </th> <td>   1.403</td>\n",
       "</tr>\n",
       "<tr>\n",
       "  <th>Prob(Omnibus):</th> <td> 0.005</td> <th>  Jarque-Bera (JB):  </th> <td>  11.722</td>\n",
       "</tr>\n",
       "<tr>\n",
       "  <th>Skew:</th>          <td> 0.707</td> <th>  Prob(JB):          </th> <td> 0.00285</td>\n",
       "</tr>\n",
       "<tr>\n",
       "  <th>Kurtosis:</th>      <td> 4.215</td> <th>  Cond. No.          </th> <td>6.09e+03</td>\n",
       "</tr>\n",
       "</table><br/><br/>Notes:<br/>[1] Standard Errors assume that the covariance matrix of the errors is correctly specified.<br/>[2] The condition number is large, 6.09e+03. This might indicate that there are<br/>strong multicollinearity or other numerical problems."
      ],
      "text/plain": [
       "<class 'statsmodels.iolib.summary.Summary'>\n",
       "\"\"\"\n",
       "                            OLS Regression Results                            \n",
       "==============================================================================\n",
       "Dep. Variable:                    MPG   R-squared:                       0.771\n",
       "Model:                            OLS   Adj. R-squared:                  0.758\n",
       "Method:                 Least Squares   F-statistic:                     63.80\n",
       "Date:                Fri, 20 May 2022   Prob (F-statistic):           1.54e-23\n",
       "Time:                        18:27:15   Log-Likelihood:                -233.96\n",
       "No. Observations:                  81   AIC:                             477.9\n",
       "Df Residuals:                      76   BIC:                             489.9\n",
       "Df Model:                           4                                         \n",
       "Covariance Type:            nonrobust                                         \n",
       "==============================================================================\n",
       "                 coef    std err          t      P>|t|      [0.025      0.975]\n",
       "------------------------------------------------------------------------------\n",
       "Intercept     30.6773     14.900      2.059      0.043       1.001      60.354\n",
       "HP            -0.2054      0.039     -5.239      0.000      -0.284      -0.127\n",
       "VOL           -0.3361      0.569     -0.591      0.556      -1.469       0.796\n",
       "SP             0.3956      0.158      2.500      0.015       0.080       0.711\n",
       "WT             0.4006      1.693      0.237      0.814      -2.972       3.773\n",
       "==============================================================================\n",
       "Omnibus:                       10.780   Durbin-Watson:                   1.403\n",
       "Prob(Omnibus):                  0.005   Jarque-Bera (JB):               11.722\n",
       "Skew:                           0.707   Prob(JB):                      0.00285\n",
       "Kurtosis:                       4.215   Cond. No.                     6.09e+03\n",
       "==============================================================================\n",
       "\n",
       "Notes:\n",
       "[1] Standard Errors assume that the covariance matrix of the errors is correctly specified.\n",
       "[2] The condition number is large, 6.09e+03. This might indicate that there are\n",
       "strong multicollinearity or other numerical problems.\n",
       "\"\"\""
      ]
     },
     "execution_count": 73,
     "metadata": {},
     "output_type": "execute_result"
    }
   ],
   "source": [
    "model_4.summary()"
   ]
  },
  {
   "cell_type": "code",
   "execution_count": 74,
   "id": "fd6a8c35",
   "metadata": {},
   "outputs": [],
   "source": [
    "# Here in model 3 when we look into pvalue alll the 3 input features are significant as pval is less than 0.05 .\n",
    "# But when we come to model 4 ,VOL and WT are not significant features as pval is greater than 0.05.\n",
    "# AIC AND BIC talks about impurity and errors of the particular model.So our impurity or error should always be as less as possible."
   ]
  },
  {
   "cell_type": "code",
   "execution_count": 75,
   "id": "22b3461c",
   "metadata": {},
   "outputs": [],
   "source": [
    "#NOTE:\n",
    "#The point to be noted here is when we are adding new input features the rsquare value will be increasing.\n",
    "# When we add the input the adjusted rsquare also increases,but for model four when the fourth feature WT is added the adjusted rsquare value got decreased.Hence we can say when the new feature is added to find adjusted rsquare if it is really contributing only then it is going to increase.If the new input feature is negatively contributing or if it is not required the adjusted rsquare will decrease.\n",
    "# aic(AKAIKE INFORMATION CRITERION) : aic value should be as less as possible\n",
    "# BIC(BAYESIAN INFORMATION CRITERION) : bic should also be less when compared to all other models.\n",
    " \n",
    "\n",
    "# Hence,when taking all the evaluation metrics are taken into consideration and  model_3 is finalized to be the best model."
   ]
  },
  {
   "cell_type": "code",
   "execution_count": 76,
   "id": "d8bb27ad",
   "metadata": {},
   "outputs": [],
   "source": [
    "# We can perform these steps using sklearn library also.But it is more manual process and takes lots of time .So its better to go with statsmodel library as it is easy and it  saves time.\n",
    "\n",
    "# From sklearn.metrics import ____ we can find all the evaluation functions for regression,claasification and clustering problem statement.Through experience we will come to know all of them which function is for which model.\n",
    "\n",
    "# In sklearn library we do have some metrics which is not there in statsmodels.Similarly statsmodel have some metrics which are not present in sklearn library.\n",
    "# for building a model for Linear regression we use both statsmodels and sklearn libraries.But mostly statsmodels play major role.And  sklearn consist of MSE and MAE etc.Here we will learn the math behind MSE and MAE.\n",
    "\n",
    "\n",
    "# MSE (summation(yactual-ypred)2 / error)is used when there are no outliers in the data.\n",
    "# MSPE is obtained when MSE is divided by 100.\n",
    "# MAE (summation(yactual-ypred)/error) is used when there are outliers in the data.\n",
    "# MAPE is obtained when MAE is divided by 100.\n",
    "# MSE AND MAE ARE NOTICED WHEN SCATTERPLOY BETWEEN YACTUAL AND Y-PREDICTED IS PLOOTTED"
   ]
  },
  {
   "cell_type": "code",
   "execution_count": 77,
   "id": "4b7d94d3",
   "metadata": {},
   "outputs": [],
   "source": [
    "# MODEL SELECTION\n",
    "from sklearn.model_selection import train_test_split\n",
    "X_train,X_test,y_train,y_test=train_test_split(X,y,test_size=0.20,random_state=123)\n",
    "\n",
    "# random state is to be given ,to make sure the same results are obtained all the time.So as to give  same  samples to training and same samples to testing data for further procedure.Only then the accuracy will be constant.And we can tell to our client that the eroor is so and so like 5% .To make a sense in data we need  to have same set  of samples."
   ]
  },
  {
   "cell_type": "code",
   "execution_count": 78,
   "id": "f83bd82d",
   "metadata": {},
   "outputs": [
    {
     "data": {
      "text/plain": [
       "((64, 4), (64, 1))"
      ]
     },
     "execution_count": 78,
     "metadata": {},
     "output_type": "execute_result"
    }
   ],
   "source": [
    "X_train.shape,y_train.shape"
   ]
  },
  {
   "cell_type": "code",
   "execution_count": 79,
   "id": "1fc8d7f4",
   "metadata": {},
   "outputs": [
    {
     "data": {
      "text/plain": [
       "((17, 4), (17, 1))"
      ]
     },
     "execution_count": 79,
     "metadata": {},
     "output_type": "execute_result"
    }
   ],
   "source": [
    "X_test.shape,y_test.shape"
   ]
  },
  {
   "cell_type": "code",
   "execution_count": 80,
   "id": "253cd750",
   "metadata": {},
   "outputs": [
    {
     "data": {
      "text/plain": [
       "LinearRegression()"
      ]
     },
     "execution_count": 80,
     "metadata": {},
     "output_type": "execute_result"
    }
   ],
   "source": [
    "from sklearn.linear_model import LinearRegression\n",
    "linear_model_3=LinearRegression()\n",
    "\n",
    "# Training the data ,Here we will have training inputs\n",
    "\n",
    "linear_model_3.fit(X_train,y_train)"
   ]
  },
  {
   "cell_type": "code",
   "execution_count": 81,
   "id": "c3c91211",
   "metadata": {},
   "outputs": [
    {
     "data": {
      "text/plain": [
       "array([[38.22675856],\n",
       "       [22.29165408],\n",
       "       [ 9.62859802],\n",
       "       [21.15254378],\n",
       "       [36.2894155 ],\n",
       "       [21.16278508],\n",
       "       [42.90525839],\n",
       "       [29.55366276],\n",
       "       [26.90065902],\n",
       "       [37.8154544 ],\n",
       "       [25.92135175],\n",
       "       [38.69098709],\n",
       "       [41.95968003],\n",
       "       [33.13137527],\n",
       "       [41.19937544],\n",
       "       [36.41513277],\n",
       "       [42.86201672],\n",
       "       [26.5347201 ],\n",
       "       [35.32476208],\n",
       "       [41.61994029],\n",
       "       [23.50790982],\n",
       "       [41.30685881],\n",
       "       [41.55820167],\n",
       "       [38.07818929],\n",
       "       [41.5540797 ],\n",
       "       [33.19220374],\n",
       "       [45.73991126],\n",
       "       [44.01467024],\n",
       "       [43.01128004],\n",
       "       [37.14775294],\n",
       "       [42.65490434],\n",
       "       [34.94915143],\n",
       "       [39.93760814],\n",
       "       [35.75227964],\n",
       "       [37.79210682],\n",
       "       [38.83036773],\n",
       "       [35.92036583],\n",
       "       [27.81810358],\n",
       "       [38.26578516],\n",
       "       [35.33059671],\n",
       "       [37.91068559],\n",
       "       [30.18295174],\n",
       "       [39.49566655],\n",
       "       [37.74260921],\n",
       "       [35.79765896],\n",
       "       [46.7276508 ],\n",
       "       [35.74681066],\n",
       "       [29.36787615],\n",
       "       [16.16766915],\n",
       "       [35.02426871],\n",
       "       [42.83064554],\n",
       "       [23.80779735],\n",
       "       [29.19752474],\n",
       "       [33.19814585],\n",
       "       [24.36084333],\n",
       "       [39.01534257],\n",
       "       [44.70589837],\n",
       "       [34.78617483],\n",
       "       [37.05520765],\n",
       "       [20.86938943],\n",
       "       [35.85135142],\n",
       "       [33.00045543],\n",
       "       [45.86022261],\n",
       "       [25.60171827]])"
      ]
     },
     "execution_count": 81,
     "metadata": {},
     "output_type": "execute_result"
    }
   ],
   "source": [
    "# Testing the  data ,here we will have the test inputs\n",
    "\n",
    "# Model testing\n",
    "\n",
    "y_pred_train = linear_model_3.predict(X_train)\n",
    "y_pred_train"
   ]
  },
  {
   "cell_type": "code",
   "execution_count": 82,
   "id": "d22cb320",
   "metadata": {},
   "outputs": [
    {
     "data": {
      "text/plain": [
       "array([[23.04767717],\n",
       "       [15.09290051],\n",
       "       [42.81164374],\n",
       "       [13.7881422 ],\n",
       "       [36.21229846],\n",
       "       [26.11106049],\n",
       "       [39.57667903],\n",
       "       [37.7057223 ],\n",
       "       [24.6532975 ],\n",
       "       [37.6558578 ],\n",
       "       [46.86738801],\n",
       "       [36.18365415],\n",
       "       [40.87280892],\n",
       "       [18.03994951],\n",
       "       [33.13704253],\n",
       "       [33.18444922],\n",
       "       [39.73657572]])"
      ]
     },
     "execution_count": 82,
     "metadata": {},
     "output_type": "execute_result"
    }
   ],
   "source": [
    "y_pred_test=linear_model_3.predict(X_test)\n",
    "y_pred_test"
   ]
  },
  {
   "cell_type": "code",
   "execution_count": 83,
   "id": "2a5de2a1",
   "metadata": {},
   "outputs": [],
   "source": [
    "# as the training  data prediction and test data prediction is done.We are going to evaluate our model using mean square error and mean absolute square error.\n",
    "\n",
    "# MODEL EVALUATION\n",
    "\n",
    "from sklearn.metrics import mean_squared_error,mean_absolute_error,mean_absolute_percentage_error"
   ]
  },
  {
   "cell_type": "code",
   "execution_count": 84,
   "id": "5c090fdd",
   "metadata": {},
   "outputs": [
    {
     "name": "stdout",
     "output_type": "stream",
     "text": [
      "MSE : 15.926711213210975\n",
      "MSPE : 0.15926711213210976\n"
     ]
    }
   ],
   "source": [
    "# Caluculating using mean  square error\n",
    "\n",
    "# Caluculating the training error\n",
    "\n",
    "mean_squared_train_error=mean_squared_error(y_train,y_pred_train)\n",
    "print(\"MSE :\",mean_squared_train_error)\n",
    "print(\"MSPE :\",(mean_squared_train_error/100))\n"
   ]
  },
  {
   "cell_type": "code",
   "execution_count": 85,
   "id": "6aa39cab",
   "metadata": {},
   "outputs": [
    {
     "name": "stdout",
     "output_type": "stream",
     "text": [
      "MSE : 39.54501096258804\n",
      "MSPE : 0.3954501096258804\n"
     ]
    }
   ],
   "source": [
    "# Caluculating the test error\n",
    "\n",
    "mean_square_test_error=mean_squared_error(y_test,y_pred_test)\n",
    "print(\"MSE :\",mean_square_test_error)\n",
    "print(\"MSPE :\",(mean_square_test_error/100))"
   ]
  },
  {
   "cell_type": "code",
   "execution_count": 86,
   "id": "6ea45c1d",
   "metadata": {},
   "outputs": [
    {
     "name": "stdout",
     "output_type": "stream",
     "text": [
      "MAE : 3.033669691416168\n",
      "MAPE : 0.03033669691416168\n"
     ]
    }
   ],
   "source": [
    "# Caluculate using mean absolute error\n",
    "\n",
    "# Caluculating train error\n",
    "\n",
    "mean_absolute_train_error=mean_absolute_error(y_train,y_pred_train)\n",
    "print(\"MAE :\",mean_absolute_train_error)\n",
    "print(\"MAPE :\",(mean_absolute_train_error/100))"
   ]
  },
  {
   "cell_type": "code",
   "execution_count": 87,
   "id": "84ea3737",
   "metadata": {},
   "outputs": [
    {
     "name": "stdout",
     "output_type": "stream",
     "text": [
      "MAE : 3.7724354085869303\n",
      "MAPE : 0.0377243540858693\n"
     ]
    }
   ],
   "source": [
    "# Caluculating the test error\n",
    "\n",
    "mean_absolute_test_error=mean_absolute_error(y_test,y_pred_test)\n",
    "print(\"MAE :\",mean_absolute_test_error)\n",
    "print(\"MAPE :\",(mean_absolute_test_error/100))"
   ]
  },
  {
   "cell_type": "code",
   "execution_count": 88,
   "id": "7ef9d71d",
   "metadata": {},
   "outputs": [],
   "source": [
    "# In general the mean_absolute_error will be always less when compared to MSE as it is no squaring the errors.\n",
    "\n",
    "#So, as MAE for training and testing are equal, we can tell that it is performing a pretty good job. If we re not satisfied we can go through model optimization techniques as well.\n",
    "\n",
    "# But this how we perform the evaluation metrics for linear regression."
   ]
  },
  {
   "cell_type": "code",
   "execution_count": 89,
   "id": "551aa233",
   "metadata": {},
   "outputs": [
    {
     "data": {
      "text/plain": [
       "Text(0, 0.5, 'Y-PREDICTED')"
      ]
     },
     "execution_count": 89,
     "metadata": {},
     "output_type": "execute_result"
    },
    {
     "data": {
      "image/png": "[encoded data removed]",
      "text/plain": [
       "<Figure size 576x576 with 1 Axes>"
      ]
     },
     "metadata": {
      "needs_background": "light"
     },
     "output_type": "display_data"
    }
   ],
   "source": [
    "# plotting for MSE\n",
    "plt.figure(figsize=(8,8))\n",
    "\n",
    "plt.scatter(x=y_train,y=y_pred_train)\n",
    "plt.title(\"Y-ACTUAL VS Y-PREDICTED FOR TRAINING DATA\" )\n",
    "plt.xlabel(\"Y-ACTUAL\")\n",
    "plt.ylabel(\"Y-PREDICTED\")"
   ]
  },
  {
   "cell_type": "code",
   "execution_count": 90,
   "id": "8acdde2f",
   "metadata": {},
   "outputs": [
    {
     "data": {
      "text/plain": [
       "Text(0, 0.5, 'Y-PREDICTED')"
      ]
     },
     "execution_count": 90,
     "metadata": {},
     "output_type": "execute_result"
    },
    {
     "data": {
      "image/png": "[encoded data removed]",
      "text/plain": [
       "<Figure size 576x576 with 1 Axes>"
      ]
     },
     "metadata": {
      "needs_background": "light"
     },
     "output_type": "display_data"
    }
   ],
   "source": [
    "plt.figure(figsize=(8,8))\n",
    "plt.scatter(x=y_test,y=y_pred_test)\n",
    "plt.title(\"Y-ACTUAL VS Y-PREDICTED FOR TESTING DATA\")\n",
    "plt.xlabel(\"Y-ACTUAL\")\n",
    "plt.ylabel(\"Y-PREDICTED\")"
   ]
  },
  {
   "cell_type": "code",
   "execution_count": 91,
   "id": "20dfb479",
   "metadata": {},
   "outputs": [
    {
     "data": {
      "text/html": [
       "<div>\n",
       "<style scoped>\n",
       "    .dataframe tbody tr th:only-of-type {\n",
       "        vertical-align: middle;\n",
       "    }\n",
       "\n",
       "    .dataframe tbody tr th {\n",
       "        vertical-align: top;\n",
       "    }\n",
       "\n",
       "    .dataframe thead th {\n",
       "        text-align: right;\n",
       "    }\n",
       "</style>\n",
       "<table border=\"1\" class=\"dataframe\">\n",
       "  <thead>\n",
       "    <tr style=\"text-align: right;\">\n",
       "      <th></th>\n",
       "      <th>HP</th>\n",
       "      <th>MPG</th>\n",
       "      <th>VOL</th>\n",
       "      <th>SP</th>\n",
       "      <th>WT</th>\n",
       "    </tr>\n",
       "  </thead>\n",
       "  <tbody>\n",
       "    <tr>\n",
       "      <th>0</th>\n",
       "      <td>49</td>\n",
       "      <td>53.700681</td>\n",
       "      <td>89</td>\n",
       "      <td>104.185353</td>\n",
       "      <td>28.762059</td>\n",
       "    </tr>\n",
       "    <tr>\n",
       "      <th>1</th>\n",
       "      <td>55</td>\n",
       "      <td>50.013401</td>\n",
       "      <td>92</td>\n",
       "      <td>105.461264</td>\n",
       "      <td>30.466833</td>\n",
       "    </tr>\n",
       "    <tr>\n",
       "      <th>2</th>\n",
       "      <td>55</td>\n",
       "      <td>50.013401</td>\n",
       "      <td>92</td>\n",
       "      <td>105.461264</td>\n",
       "      <td>30.193597</td>\n",
       "    </tr>\n",
       "    <tr>\n",
       "      <th>3</th>\n",
       "      <td>70</td>\n",
       "      <td>45.696322</td>\n",
       "      <td>92</td>\n",
       "      <td>113.461264</td>\n",
       "      <td>30.632114</td>\n",
       "    </tr>\n",
       "    <tr>\n",
       "      <th>4</th>\n",
       "      <td>53</td>\n",
       "      <td>50.504232</td>\n",
       "      <td>92</td>\n",
       "      <td>104.461264</td>\n",
       "      <td>29.889149</td>\n",
       "    </tr>\n",
       "    <tr>\n",
       "      <th>...</th>\n",
       "      <td>...</td>\n",
       "      <td>...</td>\n",
       "      <td>...</td>\n",
       "      <td>...</td>\n",
       "      <td>...</td>\n",
       "    </tr>\n",
       "    <tr>\n",
       "      <th>76</th>\n",
       "      <td>322</td>\n",
       "      <td>36.900000</td>\n",
       "      <td>50</td>\n",
       "      <td>169.598513</td>\n",
       "      <td>16.132947</td>\n",
       "    </tr>\n",
       "    <tr>\n",
       "      <th>77</th>\n",
       "      <td>238</td>\n",
       "      <td>19.197888</td>\n",
       "      <td>115</td>\n",
       "      <td>150.576579</td>\n",
       "      <td>37.923113</td>\n",
       "    </tr>\n",
       "    <tr>\n",
       "      <th>78</th>\n",
       "      <td>263</td>\n",
       "      <td>34.000000</td>\n",
       "      <td>50</td>\n",
       "      <td>151.598513</td>\n",
       "      <td>15.769625</td>\n",
       "    </tr>\n",
       "    <tr>\n",
       "      <th>79</th>\n",
       "      <td>295</td>\n",
       "      <td>19.833733</td>\n",
       "      <td>119</td>\n",
       "      <td>167.944460</td>\n",
       "      <td>39.423099</td>\n",
       "    </tr>\n",
       "    <tr>\n",
       "      <th>80</th>\n",
       "      <td>236</td>\n",
       "      <td>12.101263</td>\n",
       "      <td>107</td>\n",
       "      <td>139.840817</td>\n",
       "      <td>34.948615</td>\n",
       "    </tr>\n",
       "  </tbody>\n",
       "</table>\n",
       "<p>81 rows × 5 columns</p>\n",
       "</div>"
      ],
      "text/plain": [
       "     HP        MPG  VOL          SP         WT\n",
       "0    49  53.700681   89  104.185353  28.762059\n",
       "1    55  50.013401   92  105.461264  30.466833\n",
       "2    55  50.013401   92  105.461264  30.193597\n",
       "3    70  45.696322   92  113.461264  30.632114\n",
       "4    53  50.504232   92  104.461264  29.889149\n",
       "..  ...        ...  ...         ...        ...\n",
       "76  322  36.900000   50  169.598513  16.132947\n",
       "77  238  19.197888  115  150.576579  37.923113\n",
       "78  263  34.000000   50  151.598513  15.769625\n",
       "79  295  19.833733  119  167.944460  39.423099\n",
       "80  236  12.101263  107  139.840817  34.948615\n",
       "\n",
       "[81 rows x 5 columns]"
      ]
     },
     "execution_count": 91,
     "metadata": {},
     "output_type": "execute_result"
    }
   ],
   "source": [
    "# USING SKLEARN AND BUILDING MODEL\n",
    "cars_data"
   ]
  },
  {
   "cell_type": "code",
   "execution_count": 92,
   "id": "145c6195",
   "metadata": {},
   "outputs": [],
   "source": [
    "# Now we will are Performing model optimization techniques\n",
    "\n",
    "# As the data is not Linearly related here we perform data transformation techniques.lets use LOG TRANSFORMATION TECHNIQUE."
   ]
  },
  {
   "cell_type": "code",
   "execution_count": 93,
   "id": "13dca72b",
   "metadata": {},
   "outputs": [
    {
     "data": {
      "text/html": [
       "<div>\n",
       "<style scoped>\n",
       "    .dataframe tbody tr th:only-of-type {\n",
       "        vertical-align: middle;\n",
       "    }\n",
       "\n",
       "    .dataframe tbody tr th {\n",
       "        vertical-align: top;\n",
       "    }\n",
       "\n",
       "    .dataframe thead th {\n",
       "        text-align: right;\n",
       "    }\n",
       "</style>\n",
       "<table border=\"1\" class=\"dataframe\">\n",
       "  <thead>\n",
       "    <tr style=\"text-align: right;\">\n",
       "      <th></th>\n",
       "      <th>HP</th>\n",
       "      <th>MPG</th>\n",
       "      <th>VOL</th>\n",
       "      <th>SP</th>\n",
       "      <th>WT</th>\n",
       "    </tr>\n",
       "  </thead>\n",
       "  <tbody>\n",
       "    <tr>\n",
       "      <th>0</th>\n",
       "      <td>49</td>\n",
       "      <td>53.700681</td>\n",
       "      <td>89</td>\n",
       "      <td>104.185353</td>\n",
       "      <td>28.762059</td>\n",
       "    </tr>\n",
       "    <tr>\n",
       "      <th>1</th>\n",
       "      <td>55</td>\n",
       "      <td>50.013401</td>\n",
       "      <td>92</td>\n",
       "      <td>105.461264</td>\n",
       "      <td>30.466833</td>\n",
       "    </tr>\n",
       "    <tr>\n",
       "      <th>2</th>\n",
       "      <td>55</td>\n",
       "      <td>50.013401</td>\n",
       "      <td>92</td>\n",
       "      <td>105.461264</td>\n",
       "      <td>30.193597</td>\n",
       "    </tr>\n",
       "    <tr>\n",
       "      <th>3</th>\n",
       "      <td>70</td>\n",
       "      <td>45.696322</td>\n",
       "      <td>92</td>\n",
       "      <td>113.461264</td>\n",
       "      <td>30.632114</td>\n",
       "    </tr>\n",
       "    <tr>\n",
       "      <th>4</th>\n",
       "      <td>53</td>\n",
       "      <td>50.504232</td>\n",
       "      <td>92</td>\n",
       "      <td>104.461264</td>\n",
       "      <td>29.889149</td>\n",
       "    </tr>\n",
       "    <tr>\n",
       "      <th>...</th>\n",
       "      <td>...</td>\n",
       "      <td>...</td>\n",
       "      <td>...</td>\n",
       "      <td>...</td>\n",
       "      <td>...</td>\n",
       "    </tr>\n",
       "    <tr>\n",
       "      <th>76</th>\n",
       "      <td>322</td>\n",
       "      <td>36.900000</td>\n",
       "      <td>50</td>\n",
       "      <td>169.598513</td>\n",
       "      <td>16.132947</td>\n",
       "    </tr>\n",
       "    <tr>\n",
       "      <th>77</th>\n",
       "      <td>238</td>\n",
       "      <td>19.197888</td>\n",
       "      <td>115</td>\n",
       "      <td>150.576579</td>\n",
       "      <td>37.923113</td>\n",
       "    </tr>\n",
       "    <tr>\n",
       "      <th>78</th>\n",
       "      <td>263</td>\n",
       "      <td>34.000000</td>\n",
       "      <td>50</td>\n",
       "      <td>151.598513</td>\n",
       "      <td>15.769625</td>\n",
       "    </tr>\n",
       "    <tr>\n",
       "      <th>79</th>\n",
       "      <td>295</td>\n",
       "      <td>19.833733</td>\n",
       "      <td>119</td>\n",
       "      <td>167.944460</td>\n",
       "      <td>39.423099</td>\n",
       "    </tr>\n",
       "    <tr>\n",
       "      <th>80</th>\n",
       "      <td>236</td>\n",
       "      <td>12.101263</td>\n",
       "      <td>107</td>\n",
       "      <td>139.840817</td>\n",
       "      <td>34.948615</td>\n",
       "    </tr>\n",
       "  </tbody>\n",
       "</table>\n",
       "<p>81 rows × 5 columns</p>\n",
       "</div>"
      ],
      "text/plain": [
       "     HP        MPG  VOL          SP         WT\n",
       "0    49  53.700681   89  104.185353  28.762059\n",
       "1    55  50.013401   92  105.461264  30.466833\n",
       "2    55  50.013401   92  105.461264  30.193597\n",
       "3    70  45.696322   92  113.461264  30.632114\n",
       "4    53  50.504232   92  104.461264  29.889149\n",
       "..  ...        ...  ...         ...        ...\n",
       "76  322  36.900000   50  169.598513  16.132947\n",
       "77  238  19.197888  115  150.576579  37.923113\n",
       "78  263  34.000000   50  151.598513  15.769625\n",
       "79  295  19.833733  119  167.944460  39.423099\n",
       "80  236  12.101263  107  139.840817  34.948615\n",
       "\n",
       "[81 rows x 5 columns]"
      ]
     },
     "execution_count": 93,
     "metadata": {},
     "output_type": "execute_result"
    }
   ],
   "source": [
    "X_inputs=cars_data.copy()\n",
    "X_inputs\n"
   ]
  },
  {
   "cell_type": "code",
   "execution_count": 94,
   "id": "cf6e5050",
   "metadata": {},
   "outputs": [
    {
     "data": {
      "text/html": [
       "<div>\n",
       "<style scoped>\n",
       "    .dataframe tbody tr th:only-of-type {\n",
       "        vertical-align: middle;\n",
       "    }\n",
       "\n",
       "    .dataframe tbody tr th {\n",
       "        vertical-align: top;\n",
       "    }\n",
       "\n",
       "    .dataframe thead th {\n",
       "        text-align: right;\n",
       "    }\n",
       "</style>\n",
       "<table border=\"1\" class=\"dataframe\">\n",
       "  <thead>\n",
       "    <tr style=\"text-align: right;\">\n",
       "      <th></th>\n",
       "      <th>HP</th>\n",
       "      <th>MPG</th>\n",
       "      <th>VOL</th>\n",
       "      <th>SP</th>\n",
       "      <th>WT</th>\n",
       "      <th>log_HP</th>\n",
       "      <th>log_SP</th>\n",
       "      <th>log_VOL</th>\n",
       "      <th>log_WT</th>\n",
       "    </tr>\n",
       "  </thead>\n",
       "  <tbody>\n",
       "    <tr>\n",
       "      <th>0</th>\n",
       "      <td>49</td>\n",
       "      <td>53.700681</td>\n",
       "      <td>89</td>\n",
       "      <td>104.185353</td>\n",
       "      <td>28.762059</td>\n",
       "      <td>3.891820</td>\n",
       "      <td>4.646172</td>\n",
       "      <td>4.488636</td>\n",
       "      <td>3.359057</td>\n",
       "    </tr>\n",
       "    <tr>\n",
       "      <th>1</th>\n",
       "      <td>55</td>\n",
       "      <td>50.013401</td>\n",
       "      <td>92</td>\n",
       "      <td>105.461264</td>\n",
       "      <td>30.466833</td>\n",
       "      <td>4.007333</td>\n",
       "      <td>4.658344</td>\n",
       "      <td>4.521789</td>\n",
       "      <td>3.416639</td>\n",
       "    </tr>\n",
       "    <tr>\n",
       "      <th>2</th>\n",
       "      <td>55</td>\n",
       "      <td>50.013401</td>\n",
       "      <td>92</td>\n",
       "      <td>105.461264</td>\n",
       "      <td>30.193597</td>\n",
       "      <td>4.007333</td>\n",
       "      <td>4.658344</td>\n",
       "      <td>4.521789</td>\n",
       "      <td>3.407630</td>\n",
       "    </tr>\n",
       "    <tr>\n",
       "      <th>3</th>\n",
       "      <td>70</td>\n",
       "      <td>45.696322</td>\n",
       "      <td>92</td>\n",
       "      <td>113.461264</td>\n",
       "      <td>30.632114</td>\n",
       "      <td>4.248495</td>\n",
       "      <td>4.731461</td>\n",
       "      <td>4.521789</td>\n",
       "      <td>3.422049</td>\n",
       "    </tr>\n",
       "    <tr>\n",
       "      <th>4</th>\n",
       "      <td>53</td>\n",
       "      <td>50.504232</td>\n",
       "      <td>92</td>\n",
       "      <td>104.461264</td>\n",
       "      <td>29.889149</td>\n",
       "      <td>3.970292</td>\n",
       "      <td>4.648816</td>\n",
       "      <td>4.521789</td>\n",
       "      <td>3.397495</td>\n",
       "    </tr>\n",
       "    <tr>\n",
       "      <th>...</th>\n",
       "      <td>...</td>\n",
       "      <td>...</td>\n",
       "      <td>...</td>\n",
       "      <td>...</td>\n",
       "      <td>...</td>\n",
       "      <td>...</td>\n",
       "      <td>...</td>\n",
       "      <td>...</td>\n",
       "      <td>...</td>\n",
       "    </tr>\n",
       "    <tr>\n",
       "      <th>76</th>\n",
       "      <td>322</td>\n",
       "      <td>36.900000</td>\n",
       "      <td>50</td>\n",
       "      <td>169.598513</td>\n",
       "      <td>16.132947</td>\n",
       "      <td>5.774552</td>\n",
       "      <td>5.133434</td>\n",
       "      <td>3.912023</td>\n",
       "      <td>2.780864</td>\n",
       "    </tr>\n",
       "    <tr>\n",
       "      <th>77</th>\n",
       "      <td>238</td>\n",
       "      <td>19.197888</td>\n",
       "      <td>115</td>\n",
       "      <td>150.576579</td>\n",
       "      <td>37.923113</td>\n",
       "      <td>5.472271</td>\n",
       "      <td>5.014472</td>\n",
       "      <td>4.744932</td>\n",
       "      <td>3.635561</td>\n",
       "    </tr>\n",
       "    <tr>\n",
       "      <th>78</th>\n",
       "      <td>263</td>\n",
       "      <td>34.000000</td>\n",
       "      <td>50</td>\n",
       "      <td>151.598513</td>\n",
       "      <td>15.769625</td>\n",
       "      <td>5.572154</td>\n",
       "      <td>5.021236</td>\n",
       "      <td>3.912023</td>\n",
       "      <td>2.758086</td>\n",
       "    </tr>\n",
       "    <tr>\n",
       "      <th>79</th>\n",
       "      <td>295</td>\n",
       "      <td>19.833733</td>\n",
       "      <td>119</td>\n",
       "      <td>167.944460</td>\n",
       "      <td>39.423099</td>\n",
       "      <td>5.686975</td>\n",
       "      <td>5.123633</td>\n",
       "      <td>4.779123</td>\n",
       "      <td>3.674352</td>\n",
       "    </tr>\n",
       "    <tr>\n",
       "      <th>80</th>\n",
       "      <td>236</td>\n",
       "      <td>12.101263</td>\n",
       "      <td>107</td>\n",
       "      <td>139.840817</td>\n",
       "      <td>34.948615</td>\n",
       "      <td>5.463832</td>\n",
       "      <td>4.940505</td>\n",
       "      <td>4.672829</td>\n",
       "      <td>3.553879</td>\n",
       "    </tr>\n",
       "  </tbody>\n",
       "</table>\n",
       "<p>81 rows × 9 columns</p>\n",
       "</div>"
      ],
      "text/plain": [
       "     HP        MPG  VOL          SP         WT    log_HP    log_SP   log_VOL  \\\n",
       "0    49  53.700681   89  104.185353  28.762059  3.891820  4.646172  4.488636   \n",
       "1    55  50.013401   92  105.461264  30.466833  4.007333  4.658344  4.521789   \n",
       "2    55  50.013401   92  105.461264  30.193597  4.007333  4.658344  4.521789   \n",
       "3    70  45.696322   92  113.461264  30.632114  4.248495  4.731461  4.521789   \n",
       "4    53  50.504232   92  104.461264  29.889149  3.970292  4.648816  4.521789   \n",
       "..  ...        ...  ...         ...        ...       ...       ...       ...   \n",
       "76  322  36.900000   50  169.598513  16.132947  5.774552  5.133434  3.912023   \n",
       "77  238  19.197888  115  150.576579  37.923113  5.472271  5.014472  4.744932   \n",
       "78  263  34.000000   50  151.598513  15.769625  5.572154  5.021236  3.912023   \n",
       "79  295  19.833733  119  167.944460  39.423099  5.686975  5.123633  4.779123   \n",
       "80  236  12.101263  107  139.840817  34.948615  5.463832  4.940505  4.672829   \n",
       "\n",
       "      log_WT  \n",
       "0   3.359057  \n",
       "1   3.416639  \n",
       "2   3.407630  \n",
       "3   3.422049  \n",
       "4   3.397495  \n",
       "..       ...  \n",
       "76  2.780864  \n",
       "77  3.635561  \n",
       "78  2.758086  \n",
       "79  3.674352  \n",
       "80  3.553879  \n",
       "\n",
       "[81 rows x 9 columns]"
      ]
     },
     "execution_count": 94,
     "metadata": {},
     "output_type": "execute_result"
    }
   ],
   "source": [
    "X_inputs['log_HP'] =np.log(X_inputs['HP'])\n",
    "X_inputs['log_SP'] =np.log(X_inputs['SP'])\n",
    "X_inputs['log_VOL']=np.log(X_inputs['VOL'])\n",
    "X_inputs['log_WT'] =np.log(X_inputs['WT'])\n",
    "X_inputs"
   ]
  },
  {
   "cell_type": "code",
   "execution_count": 95,
   "id": "b8fed319",
   "metadata": {},
   "outputs": [
    {
     "data": {
      "image/png": "[encoded data removed]",
      "text/plain": [
       "<Figure size 360x360 with 1 Axes>"
      ]
     },
     "metadata": {
      "needs_background": "light"
     },
     "output_type": "display_data"
    },
    {
     "data": {
      "image/png": "[encoded data removed]",
      "text/plain": [
       "<Figure size 360x360 with 1 Axes>"
      ]
     },
     "metadata": {
      "needs_background": "light"
     },
     "output_type": "display_data"
    }
   ],
   "source": [
    "# Now here we will compare \"HP vs MPG\" and \"logHP vs MPG\"\n",
    "\n",
    "sns.lmplot(x=\"HP\",y=\"MPG\",data=X_inputs)\n",
    "plt.title(\"HP VS MPG\")\n",
    "\n",
    "sns.lmplot(x=\"log_HP\",y=\"MPG\",data=X_inputs)\n",
    "plt.title(\"log_HP VS MPG\")\n",
    "plt.show()"
   ]
  },
  {
   "cell_type": "code",
   "execution_count": 96,
   "id": "b3ca8b90",
   "metadata": {},
   "outputs": [
    {
     "data": {
      "image/png": "[encoded data removed]",
      "text/plain": [
       "<Figure size 360x360 with 1 Axes>"
      ]
     },
     "metadata": {
      "needs_background": "light"
     },
     "output_type": "display_data"
    },
    {
     "data": {
      "image/png": "[encoded data removed]",
      "text/plain": [
       "<Figure size 360x360 with 1 Axes>"
      ]
     },
     "metadata": {
      "needs_background": "light"
     },
     "output_type": "display_data"
    }
   ],
   "source": [
    "# Now here we will compare \"VOL vs MPG\" and \"logVOL vs MPG\"\n",
    "\n",
    "sns.lmplot(x=\"VOL\",y=\"MPG\",data=X_inputs)\n",
    "plt.title(\"VOL VS MPG\")\n",
    "\n",
    "sns.lmplot(x=\"log_VOL\",y=\"MPG\",data=X_inputs)\n",
    "plt.title(\"log_VOL VS MPG\")\n",
    "plt.show()"
   ]
  },
  {
   "cell_type": "code",
   "execution_count": 97,
   "id": "699cd654",
   "metadata": {},
   "outputs": [
    {
     "data": {
      "image/png": "[encoded data removed]",
      "text/plain": [
       "<Figure size 360x360 with 1 Axes>"
      ]
     },
     "metadata": {
      "needs_background": "light"
     },
     "output_type": "display_data"
    },
    {
     "data": {
      "image/png": "[encoded data removed]",
      "text/plain": [
       "<Figure size 360x360 with 1 Axes>"
      ]
     },
     "metadata": {
      "needs_background": "light"
     },
     "output_type": "display_data"
    }
   ],
   "source": [
    "# Now here we will compare \"SP vs MPG\" and \"logSP vs MPG\"\n",
    "\n",
    "sns.lmplot(x=\"SP\",y=\"MPG\",data=X_inputs)\n",
    "plt.title(\"SP VS MPG\")\n",
    "\n",
    "sns.lmplot(x=\"log_SP\",y=\"MPG\",data=X_inputs)\n",
    "plt.title(\"log_SP VS MPG\")\n",
    "plt.show()"
   ]
  },
  {
   "cell_type": "code",
   "execution_count": 98,
   "id": "f5ab97b2",
   "metadata": {},
   "outputs": [
    {
     "data": {
      "image/png": "[encoded data removed]",
      "text/plain": [
       "<Figure size 360x360 with 1 Axes>"
      ]
     },
     "metadata": {
      "needs_background": "light"
     },
     "output_type": "display_data"
    },
    {
     "data": {
      "image/png": "[encoded data removed]",
      "text/plain": [
       "<Figure size 360x360 with 1 Axes>"
      ]
     },
     "metadata": {
      "needs_background": "light"
     },
     "output_type": "display_data"
    }
   ],
   "source": [
    "# Now here we will compare \"WT vs MPG\" and \"logWT vs MPG\"\n",
    "\n",
    "sns.lmplot(x=\"WT\",y=\"MPG\",data=X_inputs)\n",
    "plt.title(\"WT VS MPG\")\n",
    "\n",
    "sns.lmplot(x=\"log_WT\",y=\"MPG\",data=X_inputs)\n",
    "plt.title(\"log_WT VS MPG\")\n",
    "plt.show()"
   ]
  },
  {
   "cell_type": "code",
   "execution_count": 99,
   "id": "9caf368e",
   "metadata": {},
   "outputs": [],
   "source": [
    "# MODEL BUILDING USING SKLEARN LIBRARY\n",
    "\n",
    "X=X_inputs[['log_HP','log_VOL','log_SP','log_WT']]\n",
    "y=X_inputs[['MPG']]"
   ]
  },
  {
   "cell_type": "code",
   "execution_count": 100,
   "id": "2fb514e8",
   "metadata": {},
   "outputs": [
    {
     "data": {
      "text/plain": [
       "((81, 4), (81, 1))"
      ]
     },
     "execution_count": 100,
     "metadata": {},
     "output_type": "execute_result"
    }
   ],
   "source": [
    "X.shape,y.shape"
   ]
  },
  {
   "cell_type": "code",
   "execution_count": 101,
   "id": "10f907fd",
   "metadata": {},
   "outputs": [],
   "source": [
    "from sklearn.model_selection import train_test_split\n",
    "X_train,X_test,y_train,y_test=train_test_split(X,y,test_size=0.20,shuffle=True,random_state=123)"
   ]
  },
  {
   "cell_type": "code",
   "execution_count": 102,
   "id": "b264105e",
   "metadata": {},
   "outputs": [
    {
     "data": {
      "text/plain": [
       "((64, 4), (64, 1))"
      ]
     },
     "execution_count": 102,
     "metadata": {},
     "output_type": "execute_result"
    }
   ],
   "source": [
    "X_train.shape,y_train.shape"
   ]
  },
  {
   "cell_type": "code",
   "execution_count": 103,
   "id": "449284d5",
   "metadata": {},
   "outputs": [
    {
     "data": {
      "text/plain": [
       "((17, 4), (17, 1))"
      ]
     },
     "execution_count": 103,
     "metadata": {},
     "output_type": "execute_result"
    }
   ],
   "source": [
    "X_test.shape,y_test.shape"
   ]
  },
  {
   "cell_type": "code",
   "execution_count": 104,
   "id": "a96fc48d",
   "metadata": {},
   "outputs": [
    {
     "data": {
      "text/html": [
       "<div>\n",
       "<style scoped>\n",
       "    .dataframe tbody tr th:only-of-type {\n",
       "        vertical-align: middle;\n",
       "    }\n",
       "\n",
       "    .dataframe tbody tr th {\n",
       "        vertical-align: top;\n",
       "    }\n",
       "\n",
       "    .dataframe thead th {\n",
       "        text-align: right;\n",
       "    }\n",
       "</style>\n",
       "<table border=\"1\" class=\"dataframe\">\n",
       "  <thead>\n",
       "    <tr style=\"text-align: right;\">\n",
       "      <th></th>\n",
       "      <th>log_HP</th>\n",
       "      <th>log_VOL</th>\n",
       "      <th>log_SP</th>\n",
       "      <th>log_WT</th>\n",
       "    </tr>\n",
       "  </thead>\n",
       "  <tbody>\n",
       "    <tr>\n",
       "      <th>19</th>\n",
       "      <td>4.499810</td>\n",
       "      <td>4.634729</td>\n",
       "      <td>4.774685</td>\n",
       "      <td>3.512052</td>\n",
       "    </tr>\n",
       "    <tr>\n",
       "      <th>70</th>\n",
       "      <td>5.634790</td>\n",
       "      <td>3.912023</td>\n",
       "      <td>5.103509</td>\n",
       "      <td>2.761468</td>\n",
       "    </tr>\n",
       "    <tr>\n",
       "      <th>79</th>\n",
       "      <td>5.686975</td>\n",
       "      <td>4.779123</td>\n",
       "      <td>5.123633</td>\n",
       "      <td>3.674352</td>\n",
       "    </tr>\n",
       "    <tr>\n",
       "      <th>78</th>\n",
       "      <td>5.572154</td>\n",
       "      <td>3.912023</td>\n",
       "      <td>5.021236</td>\n",
       "      <td>2.758086</td>\n",
       "    </tr>\n",
       "    <tr>\n",
       "      <th>45</th>\n",
       "      <td>4.605170</td>\n",
       "      <td>4.595120</td>\n",
       "      <td>4.763071</td>\n",
       "      <td>3.484984</td>\n",
       "    </tr>\n",
       "    <tr>\n",
       "      <th>...</th>\n",
       "      <td>...</td>\n",
       "      <td>...</td>\n",
       "      <td>...</td>\n",
       "      <td>...</td>\n",
       "    </tr>\n",
       "    <tr>\n",
       "      <th>73</th>\n",
       "      <td>4.941642</td>\n",
       "      <td>5.075174</td>\n",
       "      <td>4.826033</td>\n",
       "      <td>3.970250</td>\n",
       "    </tr>\n",
       "    <tr>\n",
       "      <th>47</th>\n",
       "      <td>4.584967</td>\n",
       "      <td>4.634729</td>\n",
       "      <td>4.757659</td>\n",
       "      <td>3.523712</td>\n",
       "    </tr>\n",
       "    <tr>\n",
       "      <th>57</th>\n",
       "      <td>4.744932</td>\n",
       "      <td>4.615121</td>\n",
       "      <td>4.773131</td>\n",
       "      <td>3.488430</td>\n",
       "    </tr>\n",
       "    <tr>\n",
       "      <th>17</th>\n",
       "      <td>4.521789</td>\n",
       "      <td>3.912023</td>\n",
       "      <td>4.767276</td>\n",
       "      <td>2.784648</td>\n",
       "    </tr>\n",
       "    <tr>\n",
       "      <th>66</th>\n",
       "      <td>5.105945</td>\n",
       "      <td>4.736198</td>\n",
       "      <td>4.886466</td>\n",
       "      <td>3.637059</td>\n",
       "    </tr>\n",
       "  </tbody>\n",
       "</table>\n",
       "<p>64 rows × 4 columns</p>\n",
       "</div>"
      ],
      "text/plain": [
       "      log_HP   log_VOL    log_SP    log_WT\n",
       "19  4.499810  4.634729  4.774685  3.512052\n",
       "70  5.634790  3.912023  5.103509  2.761468\n",
       "79  5.686975  4.779123  5.123633  3.674352\n",
       "78  5.572154  3.912023  5.021236  2.758086\n",
       "45  4.605170  4.595120  4.763071  3.484984\n",
       "..       ...       ...       ...       ...\n",
       "73  4.941642  5.075174  4.826033  3.970250\n",
       "47  4.584967  4.634729  4.757659  3.523712\n",
       "57  4.744932  4.615121  4.773131  3.488430\n",
       "17  4.521789  3.912023  4.767276  2.784648\n",
       "66  5.105945  4.736198  4.886466  3.637059\n",
       "\n",
       "[64 rows x 4 columns]"
      ]
     },
     "execution_count": 104,
     "metadata": {},
     "output_type": "execute_result"
    }
   ],
   "source": [
    "X_train"
   ]
  },
  {
   "cell_type": "code",
   "execution_count": 105,
   "id": "2fe0faf5",
   "metadata": {},
   "outputs": [
    {
     "data": {
      "text/html": [
       "<div>\n",
       "<style scoped>\n",
       "    .dataframe tbody tr th:only-of-type {\n",
       "        vertical-align: middle;\n",
       "    }\n",
       "\n",
       "    .dataframe tbody tr th {\n",
       "        vertical-align: top;\n",
       "    }\n",
       "\n",
       "    .dataframe thead th {\n",
       "        text-align: right;\n",
       "    }\n",
       "</style>\n",
       "<table border=\"1\" class=\"dataframe\">\n",
       "  <thead>\n",
       "    <tr style=\"text-align: right;\">\n",
       "      <th></th>\n",
       "      <th>MPG</th>\n",
       "    </tr>\n",
       "  </thead>\n",
       "  <tbody>\n",
       "    <tr>\n",
       "      <th>19</th>\n",
       "      <td>38.901834</td>\n",
       "    </tr>\n",
       "    <tr>\n",
       "      <th>70</th>\n",
       "      <td>19.678507</td>\n",
       "    </tr>\n",
       "    <tr>\n",
       "      <th>79</th>\n",
       "      <td>19.833733</td>\n",
       "    </tr>\n",
       "    <tr>\n",
       "      <th>78</th>\n",
       "      <td>34.000000</td>\n",
       "    </tr>\n",
       "    <tr>\n",
       "      <th>45</th>\n",
       "      <td>34.561499</td>\n",
       "    </tr>\n",
       "    <tr>\n",
       "      <th>...</th>\n",
       "      <td>...</td>\n",
       "    </tr>\n",
       "    <tr>\n",
       "      <th>73</th>\n",
       "      <td>19.086341</td>\n",
       "    </tr>\n",
       "    <tr>\n",
       "      <th>47</th>\n",
       "      <td>35.052330</td>\n",
       "    </tr>\n",
       "    <tr>\n",
       "      <th>57</th>\n",
       "      <td>29.629936</td>\n",
       "    </tr>\n",
       "    <tr>\n",
       "      <th>17</th>\n",
       "      <td>39.354094</td>\n",
       "    </tr>\n",
       "    <tr>\n",
       "      <th>66</th>\n",
       "      <td>23.103172</td>\n",
       "    </tr>\n",
       "  </tbody>\n",
       "</table>\n",
       "<p>64 rows × 1 columns</p>\n",
       "</div>"
      ],
      "text/plain": [
       "          MPG\n",
       "19  38.901834\n",
       "70  19.678507\n",
       "79  19.833733\n",
       "78  34.000000\n",
       "45  34.561499\n",
       "..        ...\n",
       "73  19.086341\n",
       "47  35.052330\n",
       "57  29.629936\n",
       "17  39.354094\n",
       "66  23.103172\n",
       "\n",
       "[64 rows x 1 columns]"
      ]
     },
     "execution_count": 105,
     "metadata": {},
     "output_type": "execute_result"
    }
   ],
   "source": [
    "y_train"
   ]
  },
  {
   "cell_type": "code",
   "execution_count": 106,
   "id": "f36e3c30",
   "metadata": {},
   "outputs": [
    {
     "data": {
      "text/plain": [
       "LinearRegression()"
      ]
     },
     "execution_count": 106,
     "metadata": {},
     "output_type": "execute_result"
    }
   ],
   "source": [
    "from sklearn.linear_model import LinearRegression\n",
    "linear_model_4=LinearRegression()\n",
    "\n",
    "# Training the data ,Here we will have training log transformed inputs\n",
    "\n",
    "linear_model_4.fit(X_train,y_train)"
   ]
  },
  {
   "cell_type": "code",
   "execution_count": 107,
   "id": "f60dcf6b",
   "metadata": {},
   "outputs": [
    {
     "data": {
      "text/plain": [
       "array([[38.98074852],\n",
       "       [26.16964945],\n",
       "       [18.96624157],\n",
       "       [22.20270373],\n",
       "       [34.00669232],\n",
       "       [20.27273965],\n",
       "       [49.40177918],\n",
       "       [26.97020068],\n",
       "       [24.69611009],\n",
       "       [35.18473247],\n",
       "       [24.71966553],\n",
       "       [38.74973137],\n",
       "       [44.63058509],\n",
       "       [29.27113627],\n",
       "       [42.65925186],\n",
       "       [38.7692648 ],\n",
       "       [49.50082045],\n",
       "       [25.99413767],\n",
       "       [31.52954132],\n",
       "       [42.69846412],\n",
       "       [23.46090565],\n",
       "       [42.40764362],\n",
       "       [42.84416844],\n",
       "       [38.3195017 ],\n",
       "       [42.85393626],\n",
       "       [29.14409526],\n",
       "       [43.06561723],\n",
       "       [53.62138443],\n",
       "       [45.73726176],\n",
       "       [33.84156539],\n",
       "       [45.67683632],\n",
       "       [34.54125352],\n",
       "       [40.41883285],\n",
       "       [31.60676243],\n",
       "       [38.38677149],\n",
       "       [38.45196743],\n",
       "       [37.61947139],\n",
       "       [26.24445428],\n",
       "       [41.0442127 ],\n",
       "       [34.99283201],\n",
       "       [33.86700927],\n",
       "       [29.44834682],\n",
       "       [46.20416339],\n",
       "       [36.97730894],\n",
       "       [34.56624305],\n",
       "       [47.55998769],\n",
       "       [31.88623044],\n",
       "       [26.40792867],\n",
       "       [19.04846074],\n",
       "       [31.71191886],\n",
       "       [49.57299781],\n",
       "       [23.39103174],\n",
       "       [28.41759414],\n",
       "       [29.13173049],\n",
       "       [23.29412773],\n",
       "       [37.01174687],\n",
       "       [40.68905366],\n",
       "       [34.00714581],\n",
       "       [35.59286987],\n",
       "       [22.52624427],\n",
       "       [34.11394548],\n",
       "       [29.5474792 ],\n",
       "       [42.54137127],\n",
       "       [23.08441643]])"
      ]
     },
     "execution_count": 107,
     "metadata": {},
     "output_type": "execute_result"
    }
   ],
   "source": [
    "# MODEL TESTING AND EVALUATION\n",
    "\n",
    "#Caluculating the data for Training data\n",
    "\n",
    "y_pred_train=linear_model_4.predict(X_train)\n",
    "y_pred_train"
   ]
  },
  {
   "cell_type": "code",
   "execution_count": 108,
   "id": "b734ec58",
   "metadata": {},
   "outputs": [],
   "source": [
    "from sklearn.metrics import mean_absolute_error,mean_squared_error"
   ]
  },
  {
   "cell_type": "code",
   "execution_count": 109,
   "id": "8d2a9789",
   "metadata": {},
   "outputs": [
    {
     "data": {
      "text/plain": [
       "4.296945401657056"
      ]
     },
     "execution_count": 109,
     "metadata": {},
     "output_type": "execute_result"
    }
   ],
   "source": [
    "mean_squared_error(y_train,y_pred_train)"
   ]
  },
  {
   "cell_type": "code",
   "execution_count": 110,
   "id": "006df09a",
   "metadata": {},
   "outputs": [
    {
     "data": {
      "text/plain": [
       "1.1439718787015412"
      ]
     },
     "execution_count": 110,
     "metadata": {},
     "output_type": "execute_result"
    }
   ],
   "source": [
    "mean_absolute_error(y_train,y_pred_train)"
   ]
  },
  {
   "cell_type": "code",
   "execution_count": null,
   "id": "9982ec2a",
   "metadata": {},
   "outputs": [],
   "source": []
  },
  {
   "cell_type": "code",
   "execution_count": 111,
   "id": "499ebd44",
   "metadata": {},
   "outputs": [
    {
     "data": {
      "text/plain": [
       "array([[23.61091525],\n",
       "       [22.72374992],\n",
       "       [50.45575782],\n",
       "       [14.23645417],\n",
       "       [35.28931832],\n",
       "       [23.8269475 ],\n",
       "       [38.46193525],\n",
       "       [34.37191821],\n",
       "       [22.22087697],\n",
       "       [37.36995404],\n",
       "       [46.95599032],\n",
       "       [35.07657455],\n",
       "       [42.0732075 ],\n",
       "       [21.92564673],\n",
       "       [32.0736171 ],\n",
       "       [26.2198775 ],\n",
       "       [40.0488733 ]])"
      ]
     },
     "execution_count": 111,
     "metadata": {},
     "output_type": "execute_result"
    }
   ],
   "source": [
    "# MODEL TESTING AND EVALUATION\n",
    "\n",
    "#Caluculating the data for Training data\n",
    "\n",
    "y_pred_test=linear_model_4.predict(X_test)\n",
    "y_pred_test"
   ]
  },
  {
   "cell_type": "code",
   "execution_count": 112,
   "id": "2cf06839",
   "metadata": {},
   "outputs": [],
   "source": [
    "from sklearn.metrics import mean_absolute_error,mean_squared_error"
   ]
  },
  {
   "cell_type": "code",
   "execution_count": 113,
   "id": "d167d486",
   "metadata": {},
   "outputs": [
    {
     "data": {
      "text/plain": [
       "24.857528912372068"
      ]
     },
     "execution_count": 113,
     "metadata": {},
     "output_type": "execute_result"
    }
   ],
   "source": [
    "mean_squared_error(y_test,y_pred_test)"
   ]
  },
  {
   "cell_type": "code",
   "execution_count": 114,
   "id": "34977189",
   "metadata": {},
   "outputs": [
    {
     "data": {
      "text/plain": [
       "2.4650538124660044"
      ]
     },
     "execution_count": 114,
     "metadata": {},
     "output_type": "execute_result"
    }
   ],
   "source": [
    "mean_absolute_error(y_test,y_pred_test)"
   ]
  },
  {
   "cell_type": "code",
   "execution_count": 115,
   "id": "707cc22b",
   "metadata": {},
   "outputs": [
    {
     "name": "stdout",
     "output_type": "stream",
     "text": [
      "R2 SCORE                    : 0.71141\n",
      "ADJUSTED R2 SCORE           : 0.70776\n",
      "AIC                         : 490.49861\n",
      "BIC                         : 495.28751\n"
     ]
    }
   ],
   "source": [
    "# MODEL BUILDING USING STATS LIBRARY\n",
    "\n",
    "import statsmodels.formula.api as smf\n",
    "model_1 = smf.ols(formula = 'MPG~ log_HP',data=X_inputs).fit()\n",
    "\n",
    "print(\"R2 SCORE                    :\",round(model_1.rsquared,5)) # contribution of input featre towards the prediction.\n",
    "print(\"ADJUSTED R2 SCORE           :\",round(model_1.rsquared_adj,5))  # contribution of input featre towards the prediction if it is really required.\n",
    "print(\"AIC                         :\",round(model_1.aic,5))\n",
    "print(\"BIC                         :\",round(model_1.bic,5))\n",
    "\n",
    "# When we are using 1 input feature after performing log transformation.The contribution is increased to 71%.\n",
    "# And the adjusted rsquare is also contributing 70%.\n"
   ]
  },
  {
   "cell_type": "code",
   "execution_count": 116,
   "id": "9d08e92e",
   "metadata": {},
   "outputs": [
    {
     "name": "stdout",
     "output_type": "stream",
     "text": [
      "R2 SCORE                    : 0.80795\n",
      "ADJUSTED R2 SCORE           : 0.80302\n",
      "AIC                         : 459.51147\n",
      "BIC                         : 466.69481\n"
     ]
    }
   ],
   "source": [
    "import statsmodels.formula.api as smf\n",
    "model_2 = smf.ols(formula = 'MPG~ log_HP+log_SP',data=X_inputs).fit()\n",
    "\n",
    "print(\"R2 SCORE                    :\",round(model_2.rsquared,5)) # contribution of input featre towards the prediction.\n",
    "print(\"ADJUSTED R2 SCORE           :\",round(model_2.rsquared_adj,5))  # contribution of input featre towards the prediction if it is really required.\n",
    "print(\"AIC                         :\",round(model_2.aic,5))\n",
    "print(\"BIC                         :\",round(model_2.bic,5))"
   ]
  },
  {
   "cell_type": "code",
   "execution_count": 117,
   "id": "5145aaa2",
   "metadata": {},
   "outputs": [
    {
     "name": "stdout",
     "output_type": "stream",
     "text": [
      "R2 SCORE                    : 0.91158\n",
      "ADJUSTED R2 SCORE           : 0.90814\n",
      "AIC                         : 398.68076\n",
      "BIC                         : 408.25856\n"
     ]
    }
   ],
   "source": [
    "import statsmodels.formula.api as smf\n",
    "model_3 = smf.ols(formula = 'MPG~ log_HP+log_SP+log_WT',data=X_inputs).fit()\n",
    "\n",
    "print(\"R2 SCORE                    :\",round(model_3.rsquared,5)) # contribution of input featre towards the prediction.\n",
    "print(\"ADJUSTED R2 SCORE           :\",round(model_3.rsquared_adj,5))  # contribution of input featre towards the prediction if it is really required.\n",
    "print(\"AIC                         :\",round(model_3.aic,5))\n",
    "print(\"BIC                         :\",round(model_3.bic,5))"
   ]
  },
  {
   "cell_type": "code",
   "execution_count": 118,
   "id": "7b734604",
   "metadata": {},
   "outputs": [
    {
     "name": "stdout",
     "output_type": "stream",
     "text": [
      "R2 SCORE                    : 0.91178\n",
      "ADJUSTED R2 SCORE           : 0.90713\n",
      "AIC                         : 400.50134\n",
      "BIC                         : 412.47358\n"
     ]
    }
   ],
   "source": [
    "import statsmodels.formula.api as smf\n",
    "model_4 = smf.ols(formula = 'MPG~ log_HP+log_SP+log_WT+log_VOL',data=X_inputs).fit()\n",
    "\n",
    "print(\"R2 SCORE                    :\",round(model_4.rsquared,5)) # contribution of input featre towards the prediction.\n",
    "print(\"ADJUSTED R2 SCORE           :\",round(model_4.rsquared_adj,5))  # contribution of input featre towards the prediction if it is really required.\n",
    "print(\"AIC                         :\",round(model_4.aic,5))\n",
    "print(\"BIC                         :\",round(model_4.bic,5))"
   ]
  },
  {
   "cell_type": "code",
   "execution_count": 119,
   "id": "74474c06",
   "metadata": {},
   "outputs": [],
   "source": [
    "# So finally from all the 4 models .Model 3 is the best model as it is having highest rsquare and adjusted rsquare value when compared to all the other models.\n",
    "# And the aic and bic values are less when compared to all the other models."
   ]
  }
 ],
 "metadata": {
  "kernelspec": {
   "display_name": "Python 3 (ipykernel)",
   "language": "python",
   "name": "python3"
  },
  "language_info": {
   "codemirror_mode": {
    "name": "ipython",
    "version": 3
   },
   "file_extension": ".py",
   "mimetype": "text/x-python",
   "name": "python",
   "nbconvert_exporter": "python",
   "pygments_lexer": "ipython3",
   "version": "3.9.7"
  }
 },
 "nbformat": 4,
 "nbformat_minor": 5
}
